{
  "nbformat": 4,
  "nbformat_minor": 0,
  "metadata": {
    "colab": {
      "name": "chatbot_notebook.ipynb",
      "provenance": [],
      "collapsed_sections": []
    },
    "kernelspec": {
      "name": "python3",
      "display_name": "Python 3"
    },
    "language_info": {
      "name": "python"
    }
  },
  "cells": [
    {
      "cell_type": "code",
      "metadata": {
        "id": "wwfvmBhZB0Lg",
        "colab": {
          "base_uri": "https://localhost:8080/"
        },
        "outputId": "7b4e2138-9bab-4b05-dd01-742b4f74624f"
      },
      "source": [
        "import pandas as pd \n",
        "import random\n",
        "import numpy as np \n",
        "import matplotlib.pyplot as plt\n",
        "from pathlib import Path\n",
        "import string\n",
        "import re\n",
        "import joblib\n",
        "import json\n",
        "from collections import Counter\n",
        "import nltk\n",
        "nltk.download('wordnet')\n",
        "from nltk.corpus import stopwords\n",
        "from nltk.stem import WordNetLemmatizer\n",
        "\n",
        "from tensorflow.keras.preprocessing.text import Tokenizer\n",
        "from tensorflow.keras.preprocessing.sequence import pad_sequences\n",
        "from tensorflow.keras.utils import plot_model\n",
        "from tensorflow.keras.models import Sequential\n",
        "from tensorflow.keras.layers import Embedding, Dense, Flatten, Bidirectional,LSTM\n",
        "from tensorflow.keras.layers import Conv1D,Dropout\n",
        "from tensorflow.keras.layers import MaxPooling1D\n",
        "from tensorflow.keras.callbacks import ModelCheckpoint, EarlyStopping, ReduceLROnPlateau\n",
        "from tensorflow.keras.optimizers import SGD"
      ],
      "execution_count": 2,
      "outputs": [
        {
          "output_type": "stream",
          "text": [
            "[nltk_data] Downloading package wordnet to /root/nltk_data...\n",
            "[nltk_data]   Unzipping corpora/wordnet.zip.\n"
          ],
          "name": "stdout"
        }
      ]
    },
    {
      "cell_type": "code",
      "metadata": {
        "colab": {
          "base_uri": "https://localhost:8080/"
        },
        "id": "O8kGck5MLPkR",
        "outputId": "64223c66-2c42-4f82-8f55-d71b94fcc3b4"
      },
      "source": [
        "!wget http://nlp.stanford.edu/data/glove.6B.zip"
      ],
      "execution_count": 2,
      "outputs": [
        {
          "output_type": "stream",
          "text": [
            "--2021-08-12 01:54:17--  http://nlp.stanford.edu/data/glove.6B.zip\n",
            "Resolving nlp.stanford.edu (nlp.stanford.edu)... 171.64.67.140\n",
            "Connecting to nlp.stanford.edu (nlp.stanford.edu)|171.64.67.140|:80... connected.\n",
            "HTTP request sent, awaiting response... 302 Found\n",
            "Location: https://nlp.stanford.edu/data/glove.6B.zip [following]\n",
            "--2021-08-12 01:54:17--  https://nlp.stanford.edu/data/glove.6B.zip\n",
            "Connecting to nlp.stanford.edu (nlp.stanford.edu)|171.64.67.140|:443... connected.\n",
            "HTTP request sent, awaiting response... 301 Moved Permanently\n",
            "Location: http://downloads.cs.stanford.edu/nlp/data/glove.6B.zip [following]\n",
            "--2021-08-12 01:54:17--  http://downloads.cs.stanford.edu/nlp/data/glove.6B.zip\n",
            "Resolving downloads.cs.stanford.edu (downloads.cs.stanford.edu)... 171.64.64.22\n",
            "Connecting to downloads.cs.stanford.edu (downloads.cs.stanford.edu)|171.64.64.22|:80... connected.\n",
            "HTTP request sent, awaiting response... 200 OK\n",
            "Length: 862182613 (822M) [application/zip]\n",
            "Saving to: ‘glove.6B.zip’\n",
            "\n",
            "glove.6B.zip        100%[===================>] 822.24M  5.06MB/s    in 2m 41s  \n",
            "\n",
            "2021-08-12 01:56:58 (5.10 MB/s) - ‘glove.6B.zip’ saved [862182613/862182613]\n",
            "\n"
          ],
          "name": "stdout"
        }
      ]
    },
    {
      "cell_type": "code",
      "metadata": {
        "colab": {
          "base_uri": "https://localhost:8080/"
        },
        "id": "eZ_rkF4qLWUB",
        "outputId": "0bb73a76-864c-4376-90f6-f248047846cd"
      },
      "source": [
        "!unzip glove.6B.zip"
      ],
      "execution_count": 3,
      "outputs": [
        {
          "output_type": "stream",
          "text": [
            "Archive:  glove.6B.zip\n",
            "  inflating: glove.6B.50d.txt        \n",
            "  inflating: glove.6B.100d.txt       \n",
            "  inflating: glove.6B.200d.txt       \n",
            "  inflating: glove.6B.300d.txt       \n"
          ],
          "name": "stdout"
        }
      ]
    },
    {
      "cell_type": "code",
      "metadata": {
        "id": "DalT9eL8F-oM"
      },
      "source": [
        "def load_json(jsonFile):\n",
        "    with open(jsonFile) as file:\n",
        "        Json_data = json.loads(file.read())\n",
        "    return Json_data"
      ],
      "execution_count": 1,
      "outputs": []
    },
    {
      "cell_type": "code",
      "metadata": {
        "id": "cYHTdyMDng2J"
      },
      "source": [
        "data = load_json('intents.json')"
      ],
      "execution_count": 3,
      "outputs": []
    },
    {
      "cell_type": "code",
      "metadata": {
        "id": "lmuZb64RGESe"
      },
      "source": [
        "def frame_data(data):\n",
        "    df1 = pd.DataFrame(columns=['question','label'])\n",
        "    df2 = pd.DataFrame(columns=['response','label'])\n",
        "    for intent in data['intents']:\n",
        "        for pattern in intent['patterns']:\n",
        "            w = pattern\n",
        "            df_to_append = pd.Series([w,intent['tag']], index = df1.columns)\n",
        "            df1 = df1.append(df_to_append,ignore_index=True)\n",
        "        for response in intent['responses']:\n",
        "            w = response\n",
        "            df_to_append = pd.Series([w,intent['tag']], index = df2.columns)\n",
        "            df2 = df2.append(df_to_append,ignore_index=True)\n",
        "    return df1,df2"
      ],
      "execution_count": 4,
      "outputs": []
    },
    {
      "cell_type": "code",
      "metadata": {
        "id": "ko7UDFUGGI5n"
      },
      "source": [
        "df1,df2 = frame_data(data)"
      ],
      "execution_count": 5,
      "outputs": []
    },
    {
      "cell_type": "code",
      "metadata": {
        "id": "akoLJOARGlrI"
      },
      "source": [
        "lemmatizer = WordNetLemmatizer()\n",
        "vocab = Counter()\n",
        "labels = []\n",
        "\n",
        "def tokenizer(text):\n",
        "    tokens = text.split()\n",
        "    re_punc = re.compile('[%s]' % re.escape(string.punctuation))\n",
        "    tokens = [re_punc.sub('', w) for w in tokens]\n",
        "    tokens = [word for word in tokens if word.isalpha()]\n",
        "    tokens = [lemmatizer.lemmatize(w.lower()) for w in tokens]\n",
        "    tokens = [word.lower() for word in tokens if len(word) > 1]\n",
        "    return tokens"
      ],
      "execution_count": 6,
      "outputs": []
    },
    {
      "cell_type": "code",
      "metadata": {
        "id": "kVd4dMLxGn5g"
      },
      "source": [
        "def remove_stop_words(tokenizer,df,feature):\n",
        "    doc_without_stopwords = []\n",
        "    for entry in df[feature]:\n",
        "        tokens = tokenizer(entry)\n",
        "        joblib.dump(tokens,'tokens.pkl')\n",
        "        doc_without_stopwords.append(' '.join(tokens))\n",
        "    df[feature] = doc_without_stopwords\n",
        "    return"
      ],
      "execution_count": 7,
      "outputs": []
    },
    {
      "cell_type": "code",
      "metadata": {
        "id": "O9SH97DgGpoh"
      },
      "source": [
        "def create_vocab(tokenizer,df,feature):\n",
        "    for entry in df[feature]:\n",
        "        tokens = tokenizer(entry)   \n",
        "        vocab.update(tokens)\n",
        "    joblib.dump(vocab,'vocab.pkl')\n",
        "    return"
      ],
      "execution_count": 8,
      "outputs": []
    },
    {
      "cell_type": "code",
      "metadata": {
        "id": "Fffd6nAcGr82"
      },
      "source": [
        "create_vocab(tokenizer,df1,'question')\n",
        "remove_stop_words(tokenizer,df1,'question')"
      ],
      "execution_count": 12,
      "outputs": []
    },
    {
      "cell_type": "code",
      "metadata": {
        "colab": {
          "base_uri": "https://localhost:8080/"
        },
        "id": "qdL7e8TgG2BT",
        "outputId": "2b0ef4ee-6aab-4ba5-f900-a12f3636783e"
      },
      "source": [
        "vocab_size = len(vocab)\n",
        "vocab_size"
      ],
      "execution_count": 13,
      "outputs": [
        {
          "output_type": "execute_result",
          "data": {
            "text/plain": [
              "193"
            ]
          },
          "metadata": {
            "tags": []
          },
          "execution_count": 13
        }
      ]
    },
    {
      "cell_type": "code",
      "metadata": {
        "colab": {
          "base_uri": "https://localhost:8080/"
        },
        "id": "Bq2lM9JmXIdj",
        "outputId": "d7e15df3-31d9-46ce-b2d9-26b06460861a"
      },
      "source": [
        "df_shuffled=df1.iloc[np.random.permutation(df1.index)].reset_index(drop=True)\n",
        "df_shuffled.label.value_counts(sort=True)"
      ],
      "execution_count": 95,
      "outputs": [
        {
          "output_type": "execute_result",
          "data": {
            "text/plain": [
              "education     17\n",
              "skills        17\n",
              "projects      16\n",
              "media         15\n",
              "experience    14\n",
              "contact       13\n",
              "about         12\n",
              "hello         11\n",
              "name          11\n",
              "location      11\n",
              "goodbye       10\n",
              "thanks        10\n",
              "Name: label, dtype: int64"
            ]
          },
          "metadata": {
            "tags": []
          },
          "execution_count": 95
        }
      ]
    },
    {
      "cell_type": "code",
      "metadata": {
        "colab": {
          "base_uri": "https://localhost:8080/"
        },
        "id": "1KZ-lPXxG8sx",
        "outputId": "80810839-125f-417c-baa2-230b47d0faca"
      },
      "source": [
        "test_list = list(df_shuffled.groupby(by='label',as_index=False).first()['question'])\n",
        "test_list"
      ],
      "execution_count": 96,
      "outputs": [
        {
          "output_type": "execute_result",
          "data": {
            "text/plain": [
              "['give me information about you',\n",
              " 'how can contact you',\n",
              " 'want to see your education',\n",
              " 'do you undertaken technical role before',\n",
              " 'farewell',\n",
              " 'hows it going',\n",
              " 'where are you',\n",
              " 'let me see your github repository',\n",
              " 'how shall call you',\n",
              " 'what kind of technology do you like',\n",
              " 'what is your tech stack',\n",
              " 'thats helpful']"
            ]
          },
          "metadata": {
            "tags": []
          },
          "execution_count": 96
        }
      ]
    },
    {
      "cell_type": "code",
      "metadata": {
        "id": "wAVTVkqMG-Kw"
      },
      "source": [
        "test_index = []\n",
        "for i,_ in enumerate(test_list):\n",
        "    idx = df_shuffled[df_shuffled.question == test_list[i]].index[0]\n",
        "    test_index.append(idx)\n",
        "train_index = [i for i in df_shuffled.index if i not in test_index]"
      ],
      "execution_count": 97,
      "outputs": []
    },
    {
      "cell_type": "code",
      "metadata": {
        "colab": {
          "base_uri": "https://localhost:8080/",
          "height": 171
        },
        "id": "C0EW5UESHJmA",
        "outputId": "ed2486f5-2ef5-42c1-df11-929ab2d98928"
      },
      "source": [
        "' '.join(list(vocab.keys()))"
      ],
      "execution_count": 98,
      "outputs": [
        {
          "output_type": "execute_result",
          "data": {
            "application/vnd.google.colaboratory.intrinsic+json": {
              "type": "string"
            },
            "text/plain": [
              "'hello hey hi good day whats up hows it going greeting morning afternoon evening how are you bye see goodbye have nice farewell gotta go night catch later one take care thank thanks appreciate thats helpful youre great help very kind of am so grateful owe thoughtful lifesaver your name who do what called shall call can address may be want to know should im not sure is location where based located stay home live find in the world skill tell me about tech stack language proficient techinical capability share with coding programming expertise which at developer specialise knowledge technological framework knowledgeable strength talent lie thing project passionate passion interest enjoy technology like show showcase that work on any cool example code done curious most education did study studying now degree level for university currently educational qualification grade academic major majoring something student school yourself more give information please could personal id learn get better interested learning experience professional explain life employment job had or internship before describe undertaken technical role workplace worked email contact phone number detail touch best way reach talk info github linked username account let repository page link profile'"
            ]
          },
          "metadata": {
            "tags": []
          },
          "execution_count": 98
        }
      ]
    },
    {
      "cell_type": "code",
      "metadata": {
        "id": "jbEvlj7sHLj5"
      },
      "source": [
        "t=Tokenizer()\n",
        "def encoder(df,feature):\n",
        "    entries = [entry for entry in df[feature]]\n",
        "    t.fit_on_texts(entries)\n",
        "    joblib.dump(t,'tokenizer_t.pkl')\n",
        "    vocab_size = len(t.word_index) + 1\n",
        "    entries = [entry for entry in df[feature]]\n",
        "    max_length = max([len(s.split()) for s in entries])\n",
        "    encoded = t.texts_to_sequences(entries)\n",
        "    padded = pad_sequences(encoded, maxlen=max_length, padding='post')\n",
        "    return padded, vocab_size"
      ],
      "execution_count": 99,
      "outputs": []
    },
    {
      "cell_type": "code",
      "metadata": {
        "id": "Mw0UJxcbHN0Z"
      },
      "source": [
        "X,vocab_size = encoder(df_shuffled,'question')"
      ],
      "execution_count": 100,
      "outputs": []
    },
    {
      "cell_type": "code",
      "metadata": {
        "id": "2lh3a3IJHQXQ"
      },
      "source": [
        "df_encoded = pd.DataFrame(X)"
      ],
      "execution_count": 101,
      "outputs": []
    },
    {
      "cell_type": "code",
      "metadata": {
        "colab": {
          "base_uri": "https://localhost:8080/",
          "height": 419
        },
        "id": "ykavnl4UHS_U",
        "outputId": "67d3c7cc-ccbc-45e6-fa01-89df0005f5a2"
      },
      "source": [
        "df_encoded['label'] = df_shuffled.label\n",
        "df_encoded"
      ],
      "execution_count": 102,
      "outputs": [
        {
          "output_type": "execute_result",
          "data": {
            "text/html": [
              "<div>\n",
              "<style scoped>\n",
              "    .dataframe tbody tr th:only-of-type {\n",
              "        vertical-align: middle;\n",
              "    }\n",
              "\n",
              "    .dataframe tbody tr th {\n",
              "        vertical-align: top;\n",
              "    }\n",
              "\n",
              "    .dataframe thead th {\n",
              "        text-align: right;\n",
              "    }\n",
              "</style>\n",
              "<table border=\"1\" class=\"dataframe\">\n",
              "  <thead>\n",
              "    <tr style=\"text-align: right;\">\n",
              "      <th></th>\n",
              "      <th>0</th>\n",
              "      <th>1</th>\n",
              "      <th>2</th>\n",
              "      <th>3</th>\n",
              "      <th>4</th>\n",
              "      <th>5</th>\n",
              "      <th>6</th>\n",
              "      <th>7</th>\n",
              "      <th>8</th>\n",
              "      <th>label</th>\n",
              "    </tr>\n",
              "  </thead>\n",
              "  <tbody>\n",
              "    <tr>\n",
              "      <th>0</th>\n",
              "      <td>10</td>\n",
              "      <td>4</td>\n",
              "      <td>1</td>\n",
              "      <td>0</td>\n",
              "      <td>0</td>\n",
              "      <td>0</td>\n",
              "      <td>0</td>\n",
              "      <td>0</td>\n",
              "      <td>0</td>\n",
              "      <td>location</td>\n",
              "    </tr>\n",
              "    <tr>\n",
              "      <th>1</th>\n",
              "      <td>3</td>\n",
              "      <td>11</td>\n",
              "      <td>2</td>\n",
              "      <td>83</td>\n",
              "      <td>84</td>\n",
              "      <td>0</td>\n",
              "      <td>0</td>\n",
              "      <td>0</td>\n",
              "      <td>0</td>\n",
              "      <td>skills</td>\n",
              "    </tr>\n",
              "    <tr>\n",
              "      <th>2</th>\n",
              "      <td>14</td>\n",
              "      <td>85</td>\n",
              "      <td>49</td>\n",
              "      <td>1</td>\n",
              "      <td>0</td>\n",
              "      <td>0</td>\n",
              "      <td>0</td>\n",
              "      <td>0</td>\n",
              "      <td>0</td>\n",
              "      <td>name</td>\n",
              "    </tr>\n",
              "    <tr>\n",
              "      <th>3</th>\n",
              "      <td>16</td>\n",
              "      <td>5</td>\n",
              "      <td>12</td>\n",
              "      <td>2</td>\n",
              "      <td>26</td>\n",
              "      <td>0</td>\n",
              "      <td>0</td>\n",
              "      <td>0</td>\n",
              "      <td>0</td>\n",
              "      <td>skills</td>\n",
              "    </tr>\n",
              "    <tr>\n",
              "      <th>4</th>\n",
              "      <td>10</td>\n",
              "      <td>6</td>\n",
              "      <td>1</td>\n",
              "      <td>86</td>\n",
              "      <td>0</td>\n",
              "      <td>0</td>\n",
              "      <td>0</td>\n",
              "      <td>0</td>\n",
              "      <td>0</td>\n",
              "      <td>location</td>\n",
              "    </tr>\n",
              "    <tr>\n",
              "      <th>...</th>\n",
              "      <td>...</td>\n",
              "      <td>...</td>\n",
              "      <td>...</td>\n",
              "      <td>...</td>\n",
              "      <td>...</td>\n",
              "      <td>...</td>\n",
              "      <td>...</td>\n",
              "      <td>...</td>\n",
              "      <td>...</td>\n",
              "      <td>...</td>\n",
              "    </tr>\n",
              "    <tr>\n",
              "      <th>152</th>\n",
              "      <td>13</td>\n",
              "      <td>7</td>\n",
              "      <td>25</td>\n",
              "      <td>39</td>\n",
              "      <td>12</td>\n",
              "      <td>1</td>\n",
              "      <td>0</td>\n",
              "      <td>0</td>\n",
              "      <td>0</td>\n",
              "      <td>about</td>\n",
              "    </tr>\n",
              "    <tr>\n",
              "      <th>153</th>\n",
              "      <td>77</td>\n",
              "      <td>38</td>\n",
              "      <td>7</td>\n",
              "      <td>192</td>\n",
              "      <td>39</td>\n",
              "      <td>12</td>\n",
              "      <td>1</td>\n",
              "      <td>0</td>\n",
              "      <td>0</td>\n",
              "      <td>about</td>\n",
              "    </tr>\n",
              "    <tr>\n",
              "      <th>154</th>\n",
              "      <td>3</td>\n",
              "      <td>4</td>\n",
              "      <td>2</td>\n",
              "      <td>193</td>\n",
              "      <td>0</td>\n",
              "      <td>0</td>\n",
              "      <td>0</td>\n",
              "      <td>0</td>\n",
              "      <td>0</td>\n",
              "      <td>skills</td>\n",
              "    </tr>\n",
              "    <tr>\n",
              "      <th>155</th>\n",
              "      <td>33</td>\n",
              "      <td>5</td>\n",
              "      <td>2</td>\n",
              "      <td>17</td>\n",
              "      <td>45</td>\n",
              "      <td>0</td>\n",
              "      <td>0</td>\n",
              "      <td>0</td>\n",
              "      <td>0</td>\n",
              "      <td>media</td>\n",
              "    </tr>\n",
              "    <tr>\n",
              "      <th>156</th>\n",
              "      <td>14</td>\n",
              "      <td>6</td>\n",
              "      <td>48</td>\n",
              "      <td>8</td>\n",
              "      <td>79</td>\n",
              "      <td>24</td>\n",
              "      <td>1</td>\n",
              "      <td>0</td>\n",
              "      <td>0</td>\n",
              "      <td>contact</td>\n",
              "    </tr>\n",
              "  </tbody>\n",
              "</table>\n",
              "<p>157 rows × 10 columns</p>\n",
              "</div>"
            ],
            "text/plain": [
              "      0   1   2    3   4   5  6  7  8     label\n",
              "0    10   4   1    0   0   0  0  0  0  location\n",
              "1     3  11   2   83  84   0  0  0  0    skills\n",
              "2    14  85  49    1   0   0  0  0  0      name\n",
              "3    16   5  12    2  26   0  0  0  0    skills\n",
              "4    10   6   1   86   0   0  0  0  0  location\n",
              "..   ..  ..  ..  ...  ..  .. .. .. ..       ...\n",
              "152  13   7  25   39  12   1  0  0  0     about\n",
              "153  77  38   7  192  39  12  1  0  0     about\n",
              "154   3   4   2  193   0   0  0  0  0    skills\n",
              "155  33   5   2   17  45   0  0  0  0     media\n",
              "156  14   6  48    8  79  24  1  0  0   contact\n",
              "\n",
              "[157 rows x 10 columns]"
            ]
          },
          "metadata": {
            "tags": []
          },
          "execution_count": 102
        }
      ]
    },
    {
      "cell_type": "code",
      "metadata": {
        "id": "cNf7LN9MHYLg"
      },
      "source": [
        "for i in range(0,2):\n",
        "    dt = [0]*9\n",
        "    dt.append('confused')\n",
        "    dt = [dt]\n",
        "    pd.DataFrame(dt).rename(columns = {9:'label'})\n",
        "    df_encoded = df_encoded.append(pd.DataFrame(dt).rename(columns = {9:'label'}),ignore_index=True)"
      ],
      "execution_count": 103,
      "outputs": []
    },
    {
      "cell_type": "code",
      "metadata": {
        "colab": {
          "base_uri": "https://localhost:8080/",
          "height": 204
        },
        "id": "7GQQB_5-HfGV",
        "outputId": "d9f758d1-b67f-499e-f9d2-2670e0ddbda4"
      },
      "source": [
        "df_encoded.tail()\n"
      ],
      "execution_count": 104,
      "outputs": [
        {
          "output_type": "execute_result",
          "data": {
            "text/html": [
              "<div>\n",
              "<style scoped>\n",
              "    .dataframe tbody tr th:only-of-type {\n",
              "        vertical-align: middle;\n",
              "    }\n",
              "\n",
              "    .dataframe tbody tr th {\n",
              "        vertical-align: top;\n",
              "    }\n",
              "\n",
              "    .dataframe thead th {\n",
              "        text-align: right;\n",
              "    }\n",
              "</style>\n",
              "<table border=\"1\" class=\"dataframe\">\n",
              "  <thead>\n",
              "    <tr style=\"text-align: right;\">\n",
              "      <th></th>\n",
              "      <th>0</th>\n",
              "      <th>1</th>\n",
              "      <th>2</th>\n",
              "      <th>3</th>\n",
              "      <th>4</th>\n",
              "      <th>5</th>\n",
              "      <th>6</th>\n",
              "      <th>7</th>\n",
              "      <th>8</th>\n",
              "      <th>label</th>\n",
              "    </tr>\n",
              "  </thead>\n",
              "  <tbody>\n",
              "    <tr>\n",
              "      <th>154</th>\n",
              "      <td>3</td>\n",
              "      <td>4</td>\n",
              "      <td>2</td>\n",
              "      <td>193</td>\n",
              "      <td>0</td>\n",
              "      <td>0</td>\n",
              "      <td>0</td>\n",
              "      <td>0</td>\n",
              "      <td>0</td>\n",
              "      <td>skills</td>\n",
              "    </tr>\n",
              "    <tr>\n",
              "      <th>155</th>\n",
              "      <td>33</td>\n",
              "      <td>5</td>\n",
              "      <td>2</td>\n",
              "      <td>17</td>\n",
              "      <td>45</td>\n",
              "      <td>0</td>\n",
              "      <td>0</td>\n",
              "      <td>0</td>\n",
              "      <td>0</td>\n",
              "      <td>media</td>\n",
              "    </tr>\n",
              "    <tr>\n",
              "      <th>156</th>\n",
              "      <td>14</td>\n",
              "      <td>6</td>\n",
              "      <td>48</td>\n",
              "      <td>8</td>\n",
              "      <td>79</td>\n",
              "      <td>24</td>\n",
              "      <td>1</td>\n",
              "      <td>0</td>\n",
              "      <td>0</td>\n",
              "      <td>contact</td>\n",
              "    </tr>\n",
              "    <tr>\n",
              "      <th>157</th>\n",
              "      <td>0</td>\n",
              "      <td>0</td>\n",
              "      <td>0</td>\n",
              "      <td>0</td>\n",
              "      <td>0</td>\n",
              "      <td>0</td>\n",
              "      <td>0</td>\n",
              "      <td>0</td>\n",
              "      <td>0</td>\n",
              "      <td>confused</td>\n",
              "    </tr>\n",
              "    <tr>\n",
              "      <th>158</th>\n",
              "      <td>0</td>\n",
              "      <td>0</td>\n",
              "      <td>0</td>\n",
              "      <td>0</td>\n",
              "      <td>0</td>\n",
              "      <td>0</td>\n",
              "      <td>0</td>\n",
              "      <td>0</td>\n",
              "      <td>0</td>\n",
              "      <td>confused</td>\n",
              "    </tr>\n",
              "  </tbody>\n",
              "</table>\n",
              "</div>"
            ],
            "text/plain": [
              "      0  1   2    3   4   5  6  7  8     label\n",
              "154   3  4   2  193   0   0  0  0  0    skills\n",
              "155  33  5   2   17  45   0  0  0  0     media\n",
              "156  14  6  48    8  79  24  1  0  0   contact\n",
              "157   0  0   0    0   0   0  0  0  0  confused\n",
              "158   0  0   0    0   0   0  0  0  0  confused"
            ]
          },
          "metadata": {
            "tags": []
          },
          "execution_count": 104
        }
      ]
    },
    {
      "cell_type": "code",
      "metadata": {
        "id": "Sw-mK8thIhj7"
      },
      "source": [
        "train_index.append(157)\n",
        "test_index.append(158)"
      ],
      "execution_count": 105,
      "outputs": []
    },
    {
      "cell_type": "code",
      "metadata": {
        "id": "XThCi29hIyBX"
      },
      "source": [
        "from sklearn.preprocessing import LabelEncoder\n",
        "lable_enc = LabelEncoder()"
      ],
      "execution_count": 106,
      "outputs": []
    },
    {
      "cell_type": "code",
      "metadata": {
        "colab": {
          "base_uri": "https://localhost:8080/"
        },
        "id": "74VisNy4I0Eb",
        "outputId": "9772c9db-2342-4455-fac7-780b7073c00c"
      },
      "source": [
        "labl = lable_enc.fit_transform(df_encoded.label)\n",
        "labl"
      ],
      "execution_count": 107,
      "outputs": [
        {
          "output_type": "execute_result",
          "data": {
            "text/plain": [
              "array([ 7, 11,  9, 11,  7,  3,  8, 12, 11,  3,  4,  4,  8,  8, 12,  2,  2,\n",
              "        0, 10, 10,  2,  3, 11,  7,  4,  2,  8,  6,  0,  2, 10,  9,  6,  8,\n",
              "        8, 10, 11,  9,  5,  9,  5,  0, 12,  5,  9, 10,  7, 11,  4, 12,  3,\n",
              "       11,  0,  6, 11,  4,  8, 12,  7, 10, 11,  2,  3,  4,  3,  4, 11,  3,\n",
              "        8,  2,  5,  8, 10, 12,  7,  2,  8,  6,  3, 12,  3,  7,  9, 10,  3,\n",
              "        0,  9,  4, 10,  6,  7,  0,  6,  3, 10,  4, 11, 10,  6, 11,  5,  2,\n",
              "        8,  0, 11,  6,  5, 12,  0,  8, 11,  4,  3,  4,  2, 10,  9,  6,  3,\n",
              "        2,  0,  0,  7, 10, 12,  3, 10,  4,  2,  5,  8,  7,  9,  3, 10,  6,\n",
              "        4,  9,  9,  6,  5,  3, 11,  4,  7,  3, 11,  5, 12, 10,  8,  5,  0,\n",
              "        0, 11,  8,  2,  1,  1])"
            ]
          },
          "metadata": {
            "tags": []
          },
          "execution_count": 107
        }
      ]
    },
    {
      "cell_type": "code",
      "metadata": {
        "colab": {
          "base_uri": "https://localhost:8080/"
        },
        "id": "WrtskeDgI1lk",
        "outputId": "2543d92d-7fad-4da9-cf3b-b4d64fe60b7d"
      },
      "source": [
        "mapper = {}\n",
        "for index,key in enumerate(df_encoded.label):\n",
        "    if key not in mapper.keys():\n",
        "        mapper[key] = labl[index]\n",
        "mapper"
      ],
      "execution_count": 108,
      "outputs": [
        {
          "output_type": "execute_result",
          "data": {
            "text/plain": [
              "{'about': 0,\n",
              " 'confused': 1,\n",
              " 'contact': 2,\n",
              " 'education': 3,\n",
              " 'experience': 4,\n",
              " 'goodbye': 5,\n",
              " 'hello': 6,\n",
              " 'location': 7,\n",
              " 'media': 8,\n",
              " 'name': 9,\n",
              " 'projects': 10,\n",
              " 'skills': 11,\n",
              " 'thanks': 12}"
            ]
          },
          "metadata": {
            "tags": []
          },
          "execution_count": 108
        }
      ]
    },
    {
      "cell_type": "code",
      "metadata": {
        "colab": {
          "base_uri": "https://localhost:8080/"
        },
        "id": "MMVmZ4_yko22",
        "outputId": "83ebf5ea-5bae-476b-ce21-89b77f888ce3"
      },
      "source": [
        "joblib.dump(mapper,'mapper.pkl')"
      ],
      "execution_count": 109,
      "outputs": [
        {
          "output_type": "execute_result",
          "data": {
            "text/plain": [
              "['mapper.pkl']"
            ]
          },
          "metadata": {
            "tags": []
          },
          "execution_count": 109
        }
      ]
    },
    {
      "cell_type": "code",
      "metadata": {
        "id": "6xuSUlraTaIu"
      },
      "source": [
        "df2.label = df2.label.map(mapper).astype({'label': 'int32'})\n",
        "df2.to_csv('response.csv',index=False)"
      ],
      "execution_count": 110,
      "outputs": []
    },
    {
      "cell_type": "code",
      "metadata": {
        "id": "VrMPeGwaJB-z"
      },
      "source": [
        "train = df_encoded.loc[train_index]\n",
        "test = df_encoded.loc[test_index]"
      ],
      "execution_count": 111,
      "outputs": []
    },
    {
      "cell_type": "code",
      "metadata": {
        "id": "5kBPqDK2JIN2"
      },
      "source": [
        "X_train = train.drop(columns=['label'],axis=1)\n",
        "y_train = train.label\n",
        "X_test = test.drop(columns=['label'],axis=1)\n",
        "y_test = test.label"
      ],
      "execution_count": 112,
      "outputs": []
    },
    {
      "cell_type": "code",
      "metadata": {
        "id": "ecT7uVYSJI_Z"
      },
      "source": [
        "y_train =pd.get_dummies(y_train).values\n",
        "y_test =pd.get_dummies(y_test).values"
      ],
      "execution_count": 113,
      "outputs": []
    },
    {
      "cell_type": "code",
      "metadata": {
        "colab": {
          "base_uri": "https://localhost:8080/"
        },
        "id": "FGqEmnjIJLpJ",
        "outputId": "104fef7e-0c3c-4b0c-b6ec-7b1232fe05a3"
      },
      "source": [
        "y_train[0].shape,y_test[0].shape"
      ],
      "execution_count": 114,
      "outputs": [
        {
          "output_type": "execute_result",
          "data": {
            "text/plain": [
              "((13,), (13,))"
            ]
          },
          "metadata": {
            "tags": []
          },
          "execution_count": 114
        }
      ]
    },
    {
      "cell_type": "code",
      "metadata": {
        "colab": {
          "base_uri": "https://localhost:8080/"
        },
        "id": "QLPnghVSJPEo",
        "outputId": "84b2df18-f71d-4db7-eba5-cacde5d6f3a5"
      },
      "source": [
        "X_train.shape"
      ],
      "execution_count": 115,
      "outputs": [
        {
          "output_type": "execute_result",
          "data": {
            "text/plain": [
              "(146, 9)"
            ]
          },
          "metadata": {
            "tags": []
          },
          "execution_count": 115
        }
      ]
    },
    {
      "cell_type": "code",
      "metadata": {
        "id": "urs3IH6bJPzY"
      },
      "source": [
        "max_length = X_train.shape[1]\n",
        "# output = len(df3.labels.unique())\n",
        "output = 13"
      ],
      "execution_count": 116,
      "outputs": []
    },
    {
      "cell_type": "code",
      "metadata": {
        "colab": {
          "base_uri": "https://localhost:8080/"
        },
        "id": "XInhM4CVMJBO",
        "outputId": "bbf09235-4312-438b-8048-71a5f53f8344"
      },
      "source": [
        "embeddings_index = {}\n",
        "f = open('glove.6B.50d.txt')\n",
        "for line in f:\n",
        "    values = line.split()\n",
        "    word = values[0]\n",
        "    coefs = np.asarray(values[1:], dtype='float32')\n",
        "    embeddings_index[word] = coefs\n",
        "f.close()\n",
        "\n",
        "print('Found %s word vectors.' % len(embeddings_index))"
      ],
      "execution_count": 117,
      "outputs": [
        {
          "output_type": "stream",
          "text": [
            "Found 400000 word vectors.\n"
          ],
          "name": "stdout"
        }
      ]
    },
    {
      "cell_type": "code",
      "metadata": {
        "id": "Wi7vFvBLMSVZ"
      },
      "source": [
        "word_index = t.word_index\n",
        "EMBEDDING_DIM = 50 # Because we are using the 50D gloVe embeddings\n",
        "\n",
        "# Getting my embedding matrix\n",
        "embedding_matrix = np.zeros((len(word_index) + 1, EMBEDDING_DIM))\n",
        "for word, i in word_index.items():\n",
        "    embedding_vector = embeddings_index.get(word)\n",
        "    if embedding_vector is not None:\n",
        "        # words not found in embedding index will be all-zeros.\n",
        "        embedding_matrix[i] = embedding_vector"
      ],
      "execution_count": 118,
      "outputs": []
    },
    {
      "cell_type": "code",
      "metadata": {
        "colab": {
          "base_uri": "https://localhost:8080/"
        },
        "id": "MnEGJZe9MtCn",
        "outputId": "77f6fda9-1da8-424b-99eb-90f10c2387c8"
      },
      "source": [
        "embedding_matrix, embedding_matrix.shape"
      ],
      "execution_count": 119,
      "outputs": [
        {
          "output_type": "execute_result",
          "data": {
            "text/plain": [
              "(array([[ 0.00000000e+00,  0.00000000e+00,  0.00000000e+00, ...,\n",
              "          0.00000000e+00,  0.00000000e+00,  0.00000000e+00],\n",
              "        [-1.09190005e-03,  3.33240002e-01,  3.57430011e-01, ...,\n",
              "         -4.56970006e-01, -4.89690006e-02,  1.13160002e+00],\n",
              "        [-2.91629992e-02,  8.17690015e-01,  3.84700000e-01, ...,\n",
              "         -5.41859984e-01,  3.24530005e-01,  5.84249973e-01],\n",
              "        ...,\n",
              "        [ 6.83529973e-01,  2.20950007e-01, -5.66070005e-02, ...,\n",
              "          1.77080005e-01,  1.06959999e-01,  1.49489999e+00],\n",
              "        [ 2.60340005e-01, -7.66540021e-02, -2.42890000e-01, ...,\n",
              "          1.95209995e-01, -2.87680000e-01,  5.05900025e-01],\n",
              "        [-3.88240010e-01,  4.87800017e-02,  5.23419976e-01, ...,\n",
              "          2.35410005e-01, -5.78130007e-01,  5.50919995e-02]]), (194, 50))"
            ]
          },
          "metadata": {
            "tags": []
          },
          "execution_count": 119
        }
      ]
    },
    {
      "cell_type": "code",
      "metadata": {
        "id": "SXX7GebCJY0m"
      },
      "source": [
        "early_stopping = EarlyStopping(monitor='val_loss',patience=10)\n",
        "checkpoint = ModelCheckpoint(\"model-v1.h5\",\n",
        "                             monitor=\"val_loss\",\n",
        "                             mode=\"min\",\n",
        "                             save_best_only = True,\n",
        "                             verbose=1)\n",
        "reduce_lr = ReduceLROnPlateau(monitor = 'val_loss', factor = 0.2, patience = 3, verbose = 1, min_delta = 0.0001)\n",
        "callbacks = [early_stopping,checkpoint,reduce_lr]"
      ],
      "execution_count": 120,
      "outputs": []
    },
    {
      "cell_type": "code",
      "metadata": {
        "id": "DuXNRykCJb3G"
      },
      "source": [
        "def define_model(vocab_size, max_length):\n",
        "    model = Sequential()\n",
        "\n",
        "    model.add(Embedding(vocab_size,embedding_matrix.shape[1], input_length=max_length,trainable = False, weights = [embedding_matrix]))\n",
        "    model.add(Conv1D(filters=75, kernel_size=4, activation='relu'))\n",
        "    model.add(MaxPooling1D(pool_size=4))\n",
        "    model.add(Bidirectional(LSTM(72)))\n",
        "    model.add(Dropout(0.1))\n",
        "    model.add(Dense(13,activation = 'softmax'))\n",
        "\n",
        "    model.compile(loss = 'categorical_crossentropy',\n",
        "              optimizer = 'adam',\n",
        "              metrics = ['accuracy'])\n",
        "    model.summary()\n",
        "    history = model.fit(X_train, y_train, epochs=700, verbose=1,validation_data=(X_test,y_test),callbacks=callbacks)\n",
        "    acc = history.history['accuracy']\n",
        "    val_acc = history.history['val_accuracy']\n",
        "    loss=history.history['loss']\n",
        "    val_loss=history.history['val_loss']\n",
        "    return model,acc,val_acc,loss,val_loss\n",
        "    \n",
        "model,drop_rate,acc,val_acc,loss,val_loss = define_model(vocab_size, max_length)"
      ],
      "execution_count": null,
      "outputs": []
    },
    {
      "cell_type": "code",
      "metadata": {
        "colab": {
          "base_uri": "https://localhost:8080/",
          "height": 856
        },
        "id": "8li_CarDLUqn",
        "outputId": "2d802270-b064-442b-d3b2-6b101a771042"
      },
      "source": [
        "print(model.summary())\n",
        "plt.figure(figsize=(16,8))\n",
        "plt.subplot(1, 2, 1)\n",
        "plt.plot(acc, label='Training Accuracy')\n",
        "plt.plot(val_acc, label='Validation Accuracy')\n",
        "plt.legend(loc='lower right')\n",
        "plt.title('Training and Validation Accuracy')\n",
        "\n",
        "plt.subplot(1, 2, 2)\n",
        "plt.plot(loss, label='Training Loss')\n",
        "plt.plot(val_loss, label='Validation Loss')\n",
        "plt.legend(loc='upper right')\n",
        "plt.title('Training and Validation Loss')\n",
        "plt.show()"
      ],
      "execution_count": 123,
      "outputs": [
        {
          "output_type": "stream",
          "text": [
            "Model: \"sequential_4\"\n",
            "_________________________________________________________________\n",
            "Layer (type)                 Output Shape              Param #   \n",
            "=================================================================\n",
            "embedding_4 (Embedding)      (None, 9, 50)             9700      \n",
            "_________________________________________________________________\n",
            "conv1d_4 (Conv1D)            (None, 6, 75)             15075     \n",
            "_________________________________________________________________\n",
            "max_pooling1d_4 (MaxPooling1 (None, 1, 75)             0         \n",
            "_________________________________________________________________\n",
            "bidirectional_4 (Bidirection (None, 144)               85248     \n",
            "_________________________________________________________________\n",
            "dropout_4 (Dropout)          (None, 144)               0         \n",
            "_________________________________________________________________\n",
            "dense_4 (Dense)              (None, 13)                1885      \n",
            "=================================================================\n",
            "Total params: 111,908\n",
            "Trainable params: 102,208\n",
            "Non-trainable params: 9,700\n",
            "_________________________________________________________________\n",
            "None\n"
          ],
          "name": "stdout"
        },
        {
          "output_type": "display_data",
          "data": {
            "image/png": "[encoded data removed]",
            "text/plain": [
              "<Figure size 1152x576 with 2 Axes>"
            ]
          },
          "metadata": {
            "tags": [],
            "needs_background": "light"
          }
        }
      ]
    },
    {
      "cell_type": "code",
      "metadata": {
        "colab": {
          "base_uri": "https://localhost:8080/"
        },
        "id": "PX8Alk8qLoTn",
        "outputId": "a9c83425-272c-4d17-dfb7-13ebc9784964"
      },
      "source": [
        "[np.argmax(i) for i in model.predict(X_test)][:12]"
      ],
      "execution_count": 127,
      "outputs": [
        {
          "output_type": "execute_result",
          "data": {
            "text/plain": [
              "[0, 2, 3, 4, 5, 6, 7, 8, 9, 11, 11, 12]"
            ]
          },
          "metadata": {
            "tags": []
          },
          "execution_count": 127
        }
      ]
    },
    {
      "cell_type": "code",
      "metadata": {
        "colab": {
          "base_uri": "https://localhost:8080/"
        },
        "id": "a6u0cpIWLriT",
        "outputId": "dc5872da-d493-4392-cce8-680146a3a065"
      },
      "source": [
        "[np.argmax(i) for i in y_test][:12]\n"
      ],
      "execution_count": 128,
      "outputs": [
        {
          "output_type": "execute_result",
          "data": {
            "text/plain": [
              "[0, 2, 3, 4, 5, 6, 7, 8, 9, 10, 11, 12]"
            ]
          },
          "metadata": {
            "tags": []
          },
          "execution_count": 128
        }
      ]
    },
    {
      "cell_type": "code",
      "metadata": {
        "colab": {
          "base_uri": "https://localhost:8080/"
        },
        "id": "foCgu0_TvRcM",
        "outputId": "de2fc211-eb12-4237-fa6b-26785c5eae48"
      },
      "source": [
        "from tensorflow.keras.models import load_model\n",
        "tester = load_model('model-v1.h5')\n",
        "tokenizer_t = joblib.load('tokenizer_t.pkl')\n",
        "mapper = joblib.load('mapper.pkl')\n",
        "vocab = joblib.load('vocab.pkl')\n",
        "tester.summary()"
      ],
      "execution_count": 9,
      "outputs": [
        {
          "output_type": "stream",
          "text": [
            "Model: \"sequential_4\"\n",
            "_________________________________________________________________\n",
            "Layer (type)                 Output Shape              Param #   \n",
            "=================================================================\n",
            "embedding_4 (Embedding)      (None, 9, 50)             9700      \n",
            "_________________________________________________________________\n",
            "conv1d_4 (Conv1D)            (None, 6, 75)             15075     \n",
            "_________________________________________________________________\n",
            "max_pooling1d_4 (MaxPooling1 (None, 1, 75)             0         \n",
            "_________________________________________________________________\n",
            "bidirectional_4 (Bidirection (None, 144)               85248     \n",
            "_________________________________________________________________\n",
            "dropout_4 (Dropout)          (None, 144)               0         \n",
            "_________________________________________________________________\n",
            "dense_4 (Dense)              (None, 13)                1885      \n",
            "=================================================================\n",
            "Total params: 111,908\n",
            "Trainable params: 102,208\n",
            "Non-trainable params: 9,700\n",
            "_________________________________________________________________\n"
          ],
          "name": "stdout"
        }
      ]
    },
    {
      "cell_type": "code",
      "metadata": {
        "id": "oEv06Flj3H5Z"
      },
      "source": [
        "def get_text(input):\n",
        "    input_text = []\n",
        "    input_text.append(input)\n",
        "    df_input = pd.DataFrame(input_text,columns=['question'])\n",
        "    return df_input"
      ],
      "execution_count": 10,
      "outputs": []
    },
    {
      "cell_type": "code",
      "metadata": {
        "id": "62bwB1CgL15C"
      },
      "source": [
        "def tokenizer(entry):\n",
        "    tokens = entry.split()\n",
        "    re_punc = re.compile('[%s]' % re.escape(string.punctuation))\n",
        "    tokens = [re_punc.sub('', w) for w in tokens]\n",
        "    tokens = [word for word in tokens if word.isalpha()]\n",
        "    tokens = [lemmatizer.lemmatize(w.lower()) for w in tokens]\n",
        "    tokens = [word.lower() for word in tokens if len(word) > 1]\n",
        "    return tokens"
      ],
      "execution_count": 11,
      "outputs": []
    },
    {
      "cell_type": "code",
      "metadata": {
        "id": "43srDxtIL35o"
      },
      "source": [
        "def remove_stop_words_for_input(tokenizer,df,feature):\n",
        "    doc_without_stopwords = []\n",
        "    entry = df[feature][0]\n",
        "    tokens = tokenizer(entry)\n",
        "    doc_without_stopwords.append(' '.join(tokens))\n",
        "    df[feature] = doc_without_stopwords\n",
        "    return df"
      ],
      "execution_count": 12,
      "outputs": []
    },
    {
      "cell_type": "code",
      "metadata": {
        "id": "dhVh3q_UL5o8"
      },
      "source": [
        "def encode_input_text(tokenizer_t,df,feature):\n",
        "    t = tokenizer_t\n",
        "    entry = entry = [df[feature][0]]\n",
        "    encoded = t.texts_to_sequences(entry)\n",
        "    padded = pad_sequences(encoded, maxlen=9, padding='post')\n",
        "    return padded"
      ],
      "execution_count": 13,
      "outputs": []
    },
    {
      "cell_type": "code",
      "metadata": {
        "id": "EwB4_kZlL7YT"
      },
      "source": [
        "def get_pred(model,encoded_input):\n",
        "    pred = model.predict(encoded_input)\n",
        "    pred_dict=[]\n",
        "    test={}\n",
        "    for key in mapper.keys():\n",
        "        test[key]=pred[0][mapper[key]]\n",
        "        if pred[0][mapper[key]]>0.3:\n",
        "            pred_dict.append([key,pred[0][mapper[key]]])\n",
        "    pred_dict.sort(key=lambda x: x[1], reverse=True)\n",
        "    test ={k: v for k, v in sorted(test.items(), key=lambda item: item[1],reverse=True)}\n",
        "    print(test)\n",
        "    return pred_dict"
      ],
      "execution_count": 14,
      "outputs": []
    },
    {
      "cell_type": "code",
      "metadata": {
        "id": "gRbzT8MsMAIG"
      },
      "source": [
        "def get_response(intents_list, intents_json,message):\n",
        "    if not intents_list:\n",
        "        return \"Sorry, I cannot understand you\"\n",
        "    tag = intents_list[0][0]\n",
        "    if tag == \"confused\":\n",
        "        return \"Sorry, I cannot understand you\"\n",
        "    list_of_intents = intents_json['intents']\n",
        "    for i in list_of_intents:\n",
        "        if i['tag']==tag:\n",
        "            if i['tag']==\"media\":\n",
        "                if \"github\" in message:\n",
        "                    result = i['responses'][0]\n",
        "                    return result\n",
        "                elif \"linked\" in message:\n",
        "                    result = i['responses'][1]\n",
        "                    return result\n",
        "            result = random.choice(i['responses'])\n",
        "            break\n",
        "    \n",
        "    return result"
      ],
      "execution_count": 15,
      "outputs": []
    },
    {
      "cell_type": "code",
      "metadata": {
        "id": "2ePn1yTxMDyv"
      },
      "source": [
        "def chat():\n",
        "    message = input(\"\")\n",
        "    df_input = get_text(message)\n",
        "    df_input = remove_stop_words_for_input(tokenizer,df_input,'question')\n",
        "    encoded_input = encode_input_text(tokenizer_t,df_input,'question')\n",
        "    intents_list = get_pred(tester,encoded_input)\n",
        "    response = get_response(intents_list,data,message)\n",
        "    print(response)"
      ],
      "execution_count": 16,
      "outputs": []
    },
    {
      "cell_type": "code",
      "metadata": {
        "colab": {
          "base_uri": "https://localhost:8080/"
        },
        "id": "32fIW-ImhNJx",
        "outputId": "39c9c7e4-2be2-47cd-a086-b78d7848e13f"
      },
      "source": [
        "chat()"
      ],
      "execution_count": 40,
      "outputs": [
        {
          "output_type": "stream",
          "text": [
            "whats your name?\n",
            "{'name': 0.987247, 'thanks': 0.003495401, 'goodbye': 0.0032884749, 'education': 0.0022968948, 'media': 0.0011845286, 'location': 0.0006896489, 'projects': 0.0005742985, 'contact': 0.0005320952, 'skills': 0.00037002115, 'confused': 0.00014523136, 'about': 9.458968e-05, 'hello': 6.930361e-05, 'experience': 1.2566982e-05}\n",
            "My name is Colin!\n"
          ],
          "name": "stdout"
        }
      ]
    }
  ]
}