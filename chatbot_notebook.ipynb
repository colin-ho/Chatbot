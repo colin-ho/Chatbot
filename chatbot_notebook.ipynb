{
  "nbformat": 4,
  "nbformat_minor": 0,
  "metadata": {
    "colab": {
      "name": "chatbot_notebook.ipynb",
      "provenance": [],
      "collapsed_sections": []
    },
    "kernelspec": {
      "name": "python3",
      "display_name": "Python 3"
    },
    "language_info": {
      "name": "python"
    }
  },
  "cells": [
    {
      "cell_type": "code",
      "metadata": {
        "id": "wwfvmBhZB0Lg",
        "colab": {
          "base_uri": "https://localhost:8080/"
        },
        "outputId": "f67e1018-09c8-4039-b1c0-8bcd607206af"
      },
      "source": [
        "import pandas as pd \n",
        "import random\n",
        "import numpy as np \n",
        "import matplotlib.pyplot as plt\n",
        "from pathlib import Path\n",
        "import string\n",
        "import re\n",
        "import joblib\n",
        "import json\n",
        "from collections import Counter\n",
        "import nltk\n",
        "nltk.download('wordnet')\n",
        "from nltk.corpus import stopwords\n",
        "from nltk.stem import WordNetLemmatizer\n",
        "\n",
        "from tensorflow.keras.preprocessing.text import Tokenizer\n",
        "from tensorflow.keras.preprocessing.sequence import pad_sequences\n",
        "from tensorflow.keras.utils import plot_model\n",
        "from tensorflow.keras.models import Sequential\n",
        "from tensorflow.keras.layers import Embedding, Dense, Flatten, Bidirectional,LSTM\n",
        "from tensorflow.keras.layers import Conv1D,Dropout\n",
        "from tensorflow.keras.layers import MaxPooling1D\n",
        "from tensorflow.keras.callbacks import ModelCheckpoint, EarlyStopping, ReduceLROnPlateau\n",
        "from tensorflow.keras.optimizers import SGD"
      ],
      "execution_count": 1,
      "outputs": [
        {
          "output_type": "stream",
          "text": [
            "[nltk_data] Downloading package wordnet to /root/nltk_data...\n",
            "[nltk_data]   Unzipping corpora/wordnet.zip.\n"
          ],
          "name": "stdout"
        }
      ]
    },
    {
      "cell_type": "code",
      "metadata": {
        "colab": {
          "base_uri": "https://localhost:8080/"
        },
        "id": "O8kGck5MLPkR",
        "outputId": "855d2602-71db-4f60-d4d4-335c7fb0863c"
      },
      "source": [
        "!wget http://nlp.stanford.edu/data/glove.6B.zip"
      ],
      "execution_count": 2,
      "outputs": [
        {
          "output_type": "stream",
          "text": [
            "--2021-08-13 07:33:07--  http://nlp.stanford.edu/data/glove.6B.zip\n",
            "Resolving nlp.stanford.edu (nlp.stanford.edu)... 171.64.67.140\n",
            "Connecting to nlp.stanford.edu (nlp.stanford.edu)|171.64.67.140|:80... connected.\n",
            "HTTP request sent, awaiting response... 302 Found\n",
            "Location: https://nlp.stanford.edu/data/glove.6B.zip [following]\n",
            "--2021-08-13 07:33:07--  https://nlp.stanford.edu/data/glove.6B.zip\n",
            "Connecting to nlp.stanford.edu (nlp.stanford.edu)|171.64.67.140|:443... connected.\n",
            "HTTP request sent, awaiting response... 301 Moved Permanently\n",
            "Location: http://downloads.cs.stanford.edu/nlp/data/glove.6B.zip [following]\n",
            "--2021-08-13 07:33:07--  http://downloads.cs.stanford.edu/nlp/data/glove.6B.zip\n",
            "Resolving downloads.cs.stanford.edu (downloads.cs.stanford.edu)... 171.64.64.22\n",
            "Connecting to downloads.cs.stanford.edu (downloads.cs.stanford.edu)|171.64.64.22|:80... connected.\n",
            "HTTP request sent, awaiting response... 200 OK\n",
            "Length: 862182613 (822M) [application/zip]\n",
            "Saving to: ‘glove.6B.zip’\n",
            "\n",
            "glove.6B.zip        100%[===================>] 822.24M  3.66MB/s    in 3m 38s  \n",
            "\n",
            "2021-08-13 07:36:45 (3.77 MB/s) - ‘glove.6B.zip’ saved [862182613/862182613]\n",
            "\n"
          ],
          "name": "stdout"
        }
      ]
    },
    {
      "cell_type": "code",
      "metadata": {
        "colab": {
          "base_uri": "https://localhost:8080/"
        },
        "id": "eZ_rkF4qLWUB",
        "outputId": "7fe02feb-01b1-43da-e6aa-287e7c0b3638"
      },
      "source": [
        "!unzip glove.6B.zip"
      ],
      "execution_count": 3,
      "outputs": [
        {
          "output_type": "stream",
          "text": [
            "Archive:  glove.6B.zip\n",
            "  inflating: glove.6B.50d.txt        \n",
            "  inflating: glove.6B.100d.txt       \n",
            "  inflating: glove.6B.200d.txt       \n",
            "  inflating: glove.6B.300d.txt       \n"
          ],
          "name": "stdout"
        }
      ]
    },
    {
      "cell_type": "code",
      "metadata": {
        "id": "DalT9eL8F-oM"
      },
      "source": [
        "def load_json(jsonFile):\n",
        "    with open(jsonFile) as file:\n",
        "        Json_data = json.loads(file.read())\n",
        "    return Json_data"
      ],
      "execution_count": 62,
      "outputs": []
    },
    {
      "cell_type": "code",
      "metadata": {
        "id": "cYHTdyMDng2J"
      },
      "source": [
        "data = load_json('intents.json')"
      ],
      "execution_count": 5,
      "outputs": []
    },
    {
      "cell_type": "code",
      "metadata": {
        "id": "lmuZb64RGESe"
      },
      "source": [
        "def frame_data(data):\n",
        "    df1 = pd.DataFrame(columns=['question','label'])\n",
        "    df2 = pd.DataFrame(columns=['response','label'])\n",
        "    for intent in data['intents']:\n",
        "        for pattern in intent['patterns']:\n",
        "            w = pattern\n",
        "            df_to_append = pd.Series([w,intent['tag']], index = df1.columns)\n",
        "            df1 = df1.append(df_to_append,ignore_index=True)\n",
        "        for response in intent['responses']:\n",
        "            w = response\n",
        "            df_to_append = pd.Series([w,intent['tag']], index = df2.columns)\n",
        "            df2 = df2.append(df_to_append,ignore_index=True)\n",
        "    return df1,df2"
      ],
      "execution_count": 6,
      "outputs": []
    },
    {
      "cell_type": "code",
      "metadata": {
        "id": "ko7UDFUGGI5n"
      },
      "source": [
        "df1,df2 = frame_data(data)"
      ],
      "execution_count": 7,
      "outputs": []
    },
    {
      "cell_type": "code",
      "metadata": {
        "id": "akoLJOARGlrI"
      },
      "source": [
        "lemmatizer = WordNetLemmatizer()\n",
        "vocab = Counter()\n",
        "labels = []\n",
        "\n",
        "def tokenizer(text):\n",
        "    tokens = text.split()\n",
        "    re_punc = re.compile('[%s]' % re.escape(string.punctuation))\n",
        "    tokens = [re_punc.sub('', w) for w in tokens]\n",
        "    tokens = [word for word in tokens if word.isalpha()]\n",
        "    tokens = [lemmatizer.lemmatize(w.lower()) for w in tokens]\n",
        "    tokens = [word.lower() for word in tokens if len(word) > 1]\n",
        "    return tokens"
      ],
      "execution_count": 8,
      "outputs": []
    },
    {
      "cell_type": "code",
      "metadata": {
        "id": "kVd4dMLxGn5g"
      },
      "source": [
        "def remove_stop_words(tokenizer,df,feature):\n",
        "    doc_without_stopwords = []\n",
        "    for entry in df[feature]:\n",
        "        tokens = tokenizer(entry)\n",
        "        joblib.dump(tokens,'tokens.pkl')\n",
        "        doc_without_stopwords.append(' '.join(tokens))\n",
        "    df[feature] = doc_without_stopwords\n",
        "    return"
      ],
      "execution_count": 9,
      "outputs": []
    },
    {
      "cell_type": "code",
      "metadata": {
        "id": "O9SH97DgGpoh"
      },
      "source": [
        "def create_vocab(tokenizer,df,feature):\n",
        "    for entry in df[feature]:\n",
        "        tokens = tokenizer(entry)   \n",
        "        vocab.update(tokens)\n",
        "    joblib.dump(vocab,'vocab.pkl')\n",
        "    return"
      ],
      "execution_count": 10,
      "outputs": []
    },
    {
      "cell_type": "code",
      "metadata": {
        "id": "Fffd6nAcGr82"
      },
      "source": [
        "create_vocab(tokenizer,df1,'question')\n",
        "remove_stop_words(tokenizer,df1,'question')"
      ],
      "execution_count": 11,
      "outputs": []
    },
    {
      "cell_type": "code",
      "metadata": {
        "colab": {
          "base_uri": "https://localhost:8080/"
        },
        "id": "qdL7e8TgG2BT",
        "outputId": "9011467d-97c2-41ad-cc41-f0b78dca77b7"
      },
      "source": [
        "vocab_size = len(vocab)\n",
        "vocab_size"
      ],
      "execution_count": 12,
      "outputs": [
        {
          "output_type": "execute_result",
          "data": {
            "text/plain": [
              "193"
            ]
          },
          "metadata": {
            "tags": []
          },
          "execution_count": 12
        }
      ]
    },
    {
      "cell_type": "code",
      "metadata": {
        "colab": {
          "base_uri": "https://localhost:8080/"
        },
        "id": "Bq2lM9JmXIdj",
        "outputId": "ae1583b6-9665-41e9-9bed-9f3d72d724b0"
      },
      "source": [
        "df_shuffled=df1.iloc[np.random.permutation(df1.index)].reset_index(drop=True)\n",
        "df_shuffled.label.value_counts(sort=True)"
      ],
      "execution_count": 13,
      "outputs": [
        {
          "output_type": "execute_result",
          "data": {
            "text/plain": [
              "education     17\n",
              "skills        17\n",
              "projects      16\n",
              "media         15\n",
              "experience    14\n",
              "contact       13\n",
              "about         12\n",
              "name          11\n",
              "hello         11\n",
              "location      11\n",
              "thanks        10\n",
              "goodbye       10\n",
              "Name: label, dtype: int64"
            ]
          },
          "metadata": {
            "tags": []
          },
          "execution_count": 13
        }
      ]
    },
    {
      "cell_type": "code",
      "metadata": {
        "colab": {
          "base_uri": "https://localhost:8080/"
        },
        "id": "1KZ-lPXxG8sx",
        "outputId": "79d73300-0f60-4f8b-ade5-de90e583cc5c"
      },
      "source": [
        "test_list = list(df_shuffled.groupby(by='label',as_index=False).first()['question'])\n",
        "test_list"
      ],
      "execution_count": 14,
      "outputs": [
        {
          "output_type": "execute_result",
          "data": {
            "text/plain": [
              "['about me',\n",
              " 'tell me how to contact you',\n",
              " 'tell me your grade',\n",
              " 'please share your internship experience with me',\n",
              " 'bye',\n",
              " 'hi',\n",
              " 'where are you located',\n",
              " 'show me your github account',\n",
              " 'how can address you',\n",
              " 'what are you passionate about',\n",
              " 'what language are you proficient in',\n",
              " 'very kind of you']"
            ]
          },
          "metadata": {
            "tags": []
          },
          "execution_count": 14
        }
      ]
    },
    {
      "cell_type": "code",
      "metadata": {
        "id": "wAVTVkqMG-Kw"
      },
      "source": [
        "test_index = []\n",
        "for i,_ in enumerate(test_list):\n",
        "    idx = df_shuffled[df_shuffled.question == test_list[i]].index[0]\n",
        "    test_index.append(idx)\n",
        "train_index = [i for i in df_shuffled.index if i not in test_index]"
      ],
      "execution_count": 15,
      "outputs": []
    },
    {
      "cell_type": "code",
      "metadata": {
        "colab": {
          "base_uri": "https://localhost:8080/",
          "height": 171
        },
        "id": "C0EW5UESHJmA",
        "outputId": "c79016d7-56ae-40e5-b4ed-730a75fe30ee"
      },
      "source": [
        "' '.join(list(vocab.keys()))"
      ],
      "execution_count": 16,
      "outputs": [
        {
          "output_type": "execute_result",
          "data": {
            "application/vnd.google.colaboratory.intrinsic+json": {
              "type": "string"
            },
            "text/plain": [
              "'hello hey hi good day whats up hows it going greeting morning afternoon evening how are you bye see goodbye have nice farewell gotta go night catch later one take care thank thanks appreciate thats helpful youre great help very kind of am so grateful owe thoughtful lifesaver your name who do what called shall call can address may be want to know should im not sure is location where based located stay home live find in the world skill tell me about tech stack language proficient techinical capability share with coding programming expertise which at developer specialise knowledge technological framework knowledgeable strength talent lie thing project passionate passion interest enjoy technology like show showcase that work on any cool example code done curious most education did study studying now degree level for university currently educational qualification grade academic major majoring something student school yourself more give information please could personal id learn get better interested learning experience professional explain life employment job had or internship before describe undertaken technical role workplace worked email contact phone number detail touch best way reach talk info github linked username account let repository page link profile'"
            ]
          },
          "metadata": {
            "tags": []
          },
          "execution_count": 16
        }
      ]
    },
    {
      "cell_type": "code",
      "metadata": {
        "id": "jbEvlj7sHLj5"
      },
      "source": [
        "t=Tokenizer()\n",
        "def encoder(df,feature):\n",
        "    entries = [entry for entry in df[feature]]\n",
        "    t.fit_on_texts(entries)\n",
        "    joblib.dump(t,'tokenizer_t.pkl')\n",
        "    vocab_size = len(t.word_index) + 1\n",
        "    entries = [entry for entry in df[feature]]\n",
        "    max_length = max([len(s.split()) for s in entries])\n",
        "    encoded = t.texts_to_sequences(entries)\n",
        "    padded = pad_sequences(encoded, maxlen=max_length, padding='post')\n",
        "    return padded, vocab_size"
      ],
      "execution_count": 17,
      "outputs": []
    },
    {
      "cell_type": "code",
      "metadata": {
        "id": "Mw0UJxcbHN0Z"
      },
      "source": [
        "X,vocab_size = encoder(df_shuffled,'question')"
      ],
      "execution_count": 18,
      "outputs": []
    },
    {
      "cell_type": "code",
      "metadata": {
        "id": "2lh3a3IJHQXQ"
      },
      "source": [
        "df_encoded = pd.DataFrame(X)"
      ],
      "execution_count": 19,
      "outputs": []
    },
    {
      "cell_type": "code",
      "metadata": {
        "colab": {
          "base_uri": "https://localhost:8080/",
          "height": 419
        },
        "id": "ykavnl4UHS_U",
        "outputId": "a9f521ff-5d81-4f24-e86a-ea9ce309d5c3"
      },
      "source": [
        "df_encoded['label'] = df_shuffled.label\n",
        "df_encoded"
      ],
      "execution_count": 20,
      "outputs": [
        {
          "output_type": "execute_result",
          "data": {
            "text/html": [
              "<div>\n",
              "<style scoped>\n",
              "    .dataframe tbody tr th:only-of-type {\n",
              "        vertical-align: middle;\n",
              "    }\n",
              "\n",
              "    .dataframe tbody tr th {\n",
              "        vertical-align: top;\n",
              "    }\n",
              "\n",
              "    .dataframe thead th {\n",
              "        text-align: right;\n",
              "    }\n",
              "</style>\n",
              "<table border=\"1\" class=\"dataframe\">\n",
              "  <thead>\n",
              "    <tr style=\"text-align: right;\">\n",
              "      <th></th>\n",
              "      <th>0</th>\n",
              "      <th>1</th>\n",
              "      <th>2</th>\n",
              "      <th>3</th>\n",
              "      <th>4</th>\n",
              "      <th>5</th>\n",
              "      <th>6</th>\n",
              "      <th>7</th>\n",
              "      <th>8</th>\n",
              "      <th>label</th>\n",
              "    </tr>\n",
              "  </thead>\n",
              "  <tbody>\n",
              "    <tr>\n",
              "      <th>0</th>\n",
              "      <td>83</td>\n",
              "      <td>0</td>\n",
              "      <td>0</td>\n",
              "      <td>0</td>\n",
              "      <td>0</td>\n",
              "      <td>0</td>\n",
              "      <td>0</td>\n",
              "      <td>0</td>\n",
              "      <td>0</td>\n",
              "      <td>hello</td>\n",
              "    </tr>\n",
              "    <tr>\n",
              "      <th>1</th>\n",
              "      <td>3</td>\n",
              "      <td>49</td>\n",
              "      <td>4</td>\n",
              "      <td>1</td>\n",
              "      <td>84</td>\n",
              "      <td>6</td>\n",
              "      <td>0</td>\n",
              "      <td>0</td>\n",
              "      <td>0</td>\n",
              "      <td>skills</td>\n",
              "    </tr>\n",
              "    <tr>\n",
              "      <th>2</th>\n",
              "      <td>85</td>\n",
              "      <td>0</td>\n",
              "      <td>0</td>\n",
              "      <td>0</td>\n",
              "      <td>0</td>\n",
              "      <td>0</td>\n",
              "      <td>0</td>\n",
              "      <td>0</td>\n",
              "      <td>0</td>\n",
              "      <td>hello</td>\n",
              "    </tr>\n",
              "    <tr>\n",
              "      <th>3</th>\n",
              "      <td>86</td>\n",
              "      <td>0</td>\n",
              "      <td>0</td>\n",
              "      <td>0</td>\n",
              "      <td>0</td>\n",
              "      <td>0</td>\n",
              "      <td>0</td>\n",
              "      <td>0</td>\n",
              "      <td>0</td>\n",
              "      <td>goodbye</td>\n",
              "    </tr>\n",
              "    <tr>\n",
              "      <th>4</th>\n",
              "      <td>16</td>\n",
              "      <td>50</td>\n",
              "      <td>0</td>\n",
              "      <td>0</td>\n",
              "      <td>0</td>\n",
              "      <td>0</td>\n",
              "      <td>0</td>\n",
              "      <td>0</td>\n",
              "      <td>0</td>\n",
              "      <td>hello</td>\n",
              "    </tr>\n",
              "    <tr>\n",
              "      <th>...</th>\n",
              "      <td>...</td>\n",
              "      <td>...</td>\n",
              "      <td>...</td>\n",
              "      <td>...</td>\n",
              "      <td>...</td>\n",
              "      <td>...</td>\n",
              "      <td>...</td>\n",
              "      <td>...</td>\n",
              "      <td>...</td>\n",
              "      <td>...</td>\n",
              "    </tr>\n",
              "    <tr>\n",
              "      <th>152</th>\n",
              "      <td>28</td>\n",
              "      <td>0</td>\n",
              "      <td>0</td>\n",
              "      <td>0</td>\n",
              "      <td>0</td>\n",
              "      <td>0</td>\n",
              "      <td>0</td>\n",
              "      <td>0</td>\n",
              "      <td>0</td>\n",
              "      <td>skills</td>\n",
              "    </tr>\n",
              "    <tr>\n",
              "      <th>153</th>\n",
              "      <td>192</td>\n",
              "      <td>0</td>\n",
              "      <td>0</td>\n",
              "      <td>0</td>\n",
              "      <td>0</td>\n",
              "      <td>0</td>\n",
              "      <td>0</td>\n",
              "      <td>0</td>\n",
              "      <td>0</td>\n",
              "      <td>thanks</td>\n",
              "    </tr>\n",
              "    <tr>\n",
              "      <th>154</th>\n",
              "      <td>41</td>\n",
              "      <td>54</td>\n",
              "      <td>4</td>\n",
              "      <td>1</td>\n",
              "      <td>82</td>\n",
              "      <td>6</td>\n",
              "      <td>0</td>\n",
              "      <td>0</td>\n",
              "      <td>0</td>\n",
              "      <td>education</td>\n",
              "    </tr>\n",
              "    <tr>\n",
              "      <th>155</th>\n",
              "      <td>3</td>\n",
              "      <td>4</td>\n",
              "      <td>1</td>\n",
              "      <td>80</td>\n",
              "      <td>6</td>\n",
              "      <td>0</td>\n",
              "      <td>0</td>\n",
              "      <td>0</td>\n",
              "      <td>0</td>\n",
              "      <td>education</td>\n",
              "    </tr>\n",
              "    <tr>\n",
              "      <th>156</th>\n",
              "      <td>16</td>\n",
              "      <td>193</td>\n",
              "      <td>0</td>\n",
              "      <td>0</td>\n",
              "      <td>0</td>\n",
              "      <td>0</td>\n",
              "      <td>0</td>\n",
              "      <td>0</td>\n",
              "      <td>0</td>\n",
              "      <td>hello</td>\n",
              "    </tr>\n",
              "  </tbody>\n",
              "</table>\n",
              "<p>157 rows × 10 columns</p>\n",
              "</div>"
            ],
            "text/plain": [
              "       0    1  2   3   4  5  6  7  8      label\n",
              "0     83    0  0   0   0  0  0  0  0      hello\n",
              "1      3   49  4   1  84  6  0  0  0     skills\n",
              "2     85    0  0   0   0  0  0  0  0      hello\n",
              "3     86    0  0   0   0  0  0  0  0    goodbye\n",
              "4     16   50  0   0   0  0  0  0  0      hello\n",
              "..   ...  ... ..  ..  .. .. .. .. ..        ...\n",
              "152   28    0  0   0   0  0  0  0  0     skills\n",
              "153  192    0  0   0   0  0  0  0  0     thanks\n",
              "154   41   54  4   1  82  6  0  0  0  education\n",
              "155    3    4  1  80   6  0  0  0  0  education\n",
              "156   16  193  0   0   0  0  0  0  0      hello\n",
              "\n",
              "[157 rows x 10 columns]"
            ]
          },
          "metadata": {
            "tags": []
          },
          "execution_count": 20
        }
      ]
    },
    {
      "cell_type": "code",
      "metadata": {
        "id": "cNf7LN9MHYLg"
      },
      "source": [
        "for i in range(0,2):\n",
        "    dt = [0]*9\n",
        "    dt.append('confused')\n",
        "    dt = [dt]\n",
        "    pd.DataFrame(dt).rename(columns = {9:'label'})\n",
        "    df_encoded = df_encoded.append(pd.DataFrame(dt).rename(columns = {9:'label'}),ignore_index=True)"
      ],
      "execution_count": 21,
      "outputs": []
    },
    {
      "cell_type": "code",
      "metadata": {
        "colab": {
          "base_uri": "https://localhost:8080/",
          "height": 204
        },
        "id": "7GQQB_5-HfGV",
        "outputId": "43c2c1d4-a548-4747-a4f8-19611a73b9a5"
      },
      "source": [
        "df_encoded.tail()\n"
      ],
      "execution_count": 22,
      "outputs": [
        {
          "output_type": "execute_result",
          "data": {
            "text/html": [
              "<div>\n",
              "<style scoped>\n",
              "    .dataframe tbody tr th:only-of-type {\n",
              "        vertical-align: middle;\n",
              "    }\n",
              "\n",
              "    .dataframe tbody tr th {\n",
              "        vertical-align: top;\n",
              "    }\n",
              "\n",
              "    .dataframe thead th {\n",
              "        text-align: right;\n",
              "    }\n",
              "</style>\n",
              "<table border=\"1\" class=\"dataframe\">\n",
              "  <thead>\n",
              "    <tr style=\"text-align: right;\">\n",
              "      <th></th>\n",
              "      <th>0</th>\n",
              "      <th>1</th>\n",
              "      <th>2</th>\n",
              "      <th>3</th>\n",
              "      <th>4</th>\n",
              "      <th>5</th>\n",
              "      <th>6</th>\n",
              "      <th>7</th>\n",
              "      <th>8</th>\n",
              "      <th>label</th>\n",
              "    </tr>\n",
              "  </thead>\n",
              "  <tbody>\n",
              "    <tr>\n",
              "      <th>154</th>\n",
              "      <td>41</td>\n",
              "      <td>54</td>\n",
              "      <td>4</td>\n",
              "      <td>1</td>\n",
              "      <td>82</td>\n",
              "      <td>6</td>\n",
              "      <td>0</td>\n",
              "      <td>0</td>\n",
              "      <td>0</td>\n",
              "      <td>education</td>\n",
              "    </tr>\n",
              "    <tr>\n",
              "      <th>155</th>\n",
              "      <td>3</td>\n",
              "      <td>4</td>\n",
              "      <td>1</td>\n",
              "      <td>80</td>\n",
              "      <td>6</td>\n",
              "      <td>0</td>\n",
              "      <td>0</td>\n",
              "      <td>0</td>\n",
              "      <td>0</td>\n",
              "      <td>education</td>\n",
              "    </tr>\n",
              "    <tr>\n",
              "      <th>156</th>\n",
              "      <td>16</td>\n",
              "      <td>193</td>\n",
              "      <td>0</td>\n",
              "      <td>0</td>\n",
              "      <td>0</td>\n",
              "      <td>0</td>\n",
              "      <td>0</td>\n",
              "      <td>0</td>\n",
              "      <td>0</td>\n",
              "      <td>hello</td>\n",
              "    </tr>\n",
              "    <tr>\n",
              "      <th>157</th>\n",
              "      <td>0</td>\n",
              "      <td>0</td>\n",
              "      <td>0</td>\n",
              "      <td>0</td>\n",
              "      <td>0</td>\n",
              "      <td>0</td>\n",
              "      <td>0</td>\n",
              "      <td>0</td>\n",
              "      <td>0</td>\n",
              "      <td>confused</td>\n",
              "    </tr>\n",
              "    <tr>\n",
              "      <th>158</th>\n",
              "      <td>0</td>\n",
              "      <td>0</td>\n",
              "      <td>0</td>\n",
              "      <td>0</td>\n",
              "      <td>0</td>\n",
              "      <td>0</td>\n",
              "      <td>0</td>\n",
              "      <td>0</td>\n",
              "      <td>0</td>\n",
              "      <td>confused</td>\n",
              "    </tr>\n",
              "  </tbody>\n",
              "</table>\n",
              "</div>"
            ],
            "text/plain": [
              "      0    1  2   3   4  5  6  7  8      label\n",
              "154  41   54  4   1  82  6  0  0  0  education\n",
              "155   3    4  1  80   6  0  0  0  0  education\n",
              "156  16  193  0   0   0  0  0  0  0      hello\n",
              "157   0    0  0   0   0  0  0  0  0   confused\n",
              "158   0    0  0   0   0  0  0  0  0   confused"
            ]
          },
          "metadata": {
            "tags": []
          },
          "execution_count": 22
        }
      ]
    },
    {
      "cell_type": "code",
      "metadata": {
        "id": "Sw-mK8thIhj7"
      },
      "source": [
        "train_index.append(157)\n",
        "test_index.append(158)"
      ],
      "execution_count": 23,
      "outputs": []
    },
    {
      "cell_type": "code",
      "metadata": {
        "id": "XThCi29hIyBX"
      },
      "source": [
        "from sklearn.preprocessing import LabelEncoder\n",
        "lable_enc = LabelEncoder()"
      ],
      "execution_count": 24,
      "outputs": []
    },
    {
      "cell_type": "code",
      "metadata": {
        "colab": {
          "base_uri": "https://localhost:8080/"
        },
        "id": "74VisNy4I0Eb",
        "outputId": "90e0ef2f-71cd-4a07-c65e-356d26fac3e3"
      },
      "source": [
        "labl = lable_enc.fit_transform(df_encoded.label)\n",
        "labl"
      ],
      "execution_count": 25,
      "outputs": [
        {
          "output_type": "execute_result",
          "data": {
            "text/plain": [
              "array([ 6, 11,  6,  5,  6, 10,  8, 10,  3,  6, 10,  7,  7,  9,  2,  3,  8,\n",
              "       11, 12,  4,  2, 11,  8,  9,  0, 11, 12,  2,  5,  0,  9,  3, 10,  4,\n",
              "        4,  3, 11,  8,  4,  7,  9,  4,  8, 10,  5,  2,  9,  2,  4,  7,  0,\n",
              "        4,  3,  4,  4,  5,  2, 11,  9,  4,  7,  8,  0, 10, 12,  2,  9,  3,\n",
              "       11,  0,  4, 11,  5,  8,  3,  8,  3,  6, 12,  2, 11,  3,  9,  4,  4,\n",
              "        2,  7,  5, 12, 10,  2, 10, 11,  0, 11,  9, 11, 12,  8, 10,  5,  6,\n",
              "       12, 11,  4,  0, 10, 11,  5,  8,  0, 12,  2,  3,  3,  5,  7,  6,  3,\n",
              "        6,  7,  0,  6,  8,  0,  9, 11, 10,  3,  7,  8, 10, 10,  2, 10, 12,\n",
              "        8, 11,  6, 10,  3,  5, 10,  7,  7,  0,  3,  2,  8,  0,  8,  9, 11,\n",
              "       12,  3,  3,  6,  1,  1])"
            ]
          },
          "metadata": {
            "tags": []
          },
          "execution_count": 25
        }
      ]
    },
    {
      "cell_type": "code",
      "metadata": {
        "colab": {
          "base_uri": "https://localhost:8080/"
        },
        "id": "WrtskeDgI1lk",
        "outputId": "fe2983ba-8518-4ffd-db1b-676832fd0f6b"
      },
      "source": [
        "mapper = {}\n",
        "for index,key in enumerate(df_encoded.label):\n",
        "    if key not in mapper.keys():\n",
        "        mapper[key] = labl[index]\n",
        "mapper"
      ],
      "execution_count": 26,
      "outputs": [
        {
          "output_type": "execute_result",
          "data": {
            "text/plain": [
              "{'about': 0,\n",
              " 'confused': 1,\n",
              " 'contact': 2,\n",
              " 'education': 3,\n",
              " 'experience': 4,\n",
              " 'goodbye': 5,\n",
              " 'hello': 6,\n",
              " 'location': 7,\n",
              " 'media': 8,\n",
              " 'name': 9,\n",
              " 'projects': 10,\n",
              " 'skills': 11,\n",
              " 'thanks': 12}"
            ]
          },
          "metadata": {
            "tags": []
          },
          "execution_count": 26
        }
      ]
    },
    {
      "cell_type": "code",
      "metadata": {
        "colab": {
          "base_uri": "https://localhost:8080/"
        },
        "id": "MMVmZ4_yko22",
        "outputId": "b52ca15f-7e0e-4550-f15e-5e638eaec1b3"
      },
      "source": [
        "joblib.dump(mapper,'mapper.pkl')"
      ],
      "execution_count": 27,
      "outputs": [
        {
          "output_type": "execute_result",
          "data": {
            "text/plain": [
              "['mapper.pkl']"
            ]
          },
          "metadata": {
            "tags": []
          },
          "execution_count": 27
        }
      ]
    },
    {
      "cell_type": "code",
      "metadata": {
        "id": "6xuSUlraTaIu"
      },
      "source": [
        "df2.label = df2.label.map(mapper).astype({'label': 'int32'})\n",
        "df2.to_csv('response.csv',index=False)"
      ],
      "execution_count": 28,
      "outputs": []
    },
    {
      "cell_type": "code",
      "metadata": {
        "id": "VrMPeGwaJB-z"
      },
      "source": [
        "train = df_encoded.loc[train_index]\n",
        "test = df_encoded.loc[test_index]"
      ],
      "execution_count": 29,
      "outputs": []
    },
    {
      "cell_type": "code",
      "metadata": {
        "id": "5kBPqDK2JIN2"
      },
      "source": [
        "X_train = train.drop(columns=['label'],axis=1)\n",
        "y_train = train.label\n",
        "X_test = test.drop(columns=['label'],axis=1)\n",
        "y_test = test.label"
      ],
      "execution_count": 30,
      "outputs": []
    },
    {
      "cell_type": "code",
      "metadata": {
        "id": "ecT7uVYSJI_Z"
      },
      "source": [
        "y_train =pd.get_dummies(y_train).values\n",
        "y_test =pd.get_dummies(y_test).values"
      ],
      "execution_count": 31,
      "outputs": []
    },
    {
      "cell_type": "code",
      "metadata": {
        "colab": {
          "base_uri": "https://localhost:8080/"
        },
        "id": "FGqEmnjIJLpJ",
        "outputId": "d3284545-6016-405f-a764-2c8ca2f7a0d9"
      },
      "source": [
        "y_train[0].shape,y_test[0].shape"
      ],
      "execution_count": 32,
      "outputs": [
        {
          "output_type": "execute_result",
          "data": {
            "text/plain": [
              "((13,), (13,))"
            ]
          },
          "metadata": {
            "tags": []
          },
          "execution_count": 32
        }
      ]
    },
    {
      "cell_type": "code",
      "metadata": {
        "colab": {
          "base_uri": "https://localhost:8080/"
        },
        "id": "QLPnghVSJPEo",
        "outputId": "ab02e604-ea13-443f-d76a-803f2846b709"
      },
      "source": [
        "X_train.shape"
      ],
      "execution_count": 33,
      "outputs": [
        {
          "output_type": "execute_result",
          "data": {
            "text/plain": [
              "(146, 9)"
            ]
          },
          "metadata": {
            "tags": []
          },
          "execution_count": 33
        }
      ]
    },
    {
      "cell_type": "code",
      "metadata": {
        "id": "urs3IH6bJPzY"
      },
      "source": [
        "max_length = X_train.shape[1]\n",
        "# output = len(df3.labels.unique())\n",
        "output = 13"
      ],
      "execution_count": 34,
      "outputs": []
    },
    {
      "cell_type": "code",
      "metadata": {
        "colab": {
          "base_uri": "https://localhost:8080/"
        },
        "id": "XInhM4CVMJBO",
        "outputId": "f9085852-a987-402c-ea98-05f0d70569de"
      },
      "source": [
        "embeddings_index = {}\n",
        "f = open('glove.6B.50d.txt')\n",
        "for line in f:\n",
        "    values = line.split()\n",
        "    word = values[0]\n",
        "    coefs = np.asarray(values[1:], dtype='float32')\n",
        "    embeddings_index[word] = coefs\n",
        "f.close()\n",
        "\n",
        "print('Found %s word vectors.' % len(embeddings_index))"
      ],
      "execution_count": 35,
      "outputs": [
        {
          "output_type": "stream",
          "text": [
            "Found 400000 word vectors.\n"
          ],
          "name": "stdout"
        }
      ]
    },
    {
      "cell_type": "code",
      "metadata": {
        "id": "Wi7vFvBLMSVZ"
      },
      "source": [
        "word_index = t.word_index\n",
        "EMBEDDING_DIM = 50 # Because we are using the 50D gloVe embeddings\n",
        "\n",
        "# Getting my embedding matrix\n",
        "embedding_matrix = np.zeros((len(word_index) + 1, EMBEDDING_DIM))\n",
        "for word, i in word_index.items():\n",
        "    embedding_vector = embeddings_index.get(word)\n",
        "    if embedding_vector is not None:\n",
        "        # words not found in embedding index will be all-zeros.\n",
        "        embedding_matrix[i] = embedding_vector"
      ],
      "execution_count": 36,
      "outputs": []
    },
    {
      "cell_type": "code",
      "metadata": {
        "colab": {
          "base_uri": "https://localhost:8080/"
        },
        "id": "MnEGJZe9MtCn",
        "outputId": "8e6f0a06-e0a6-4276-c854-b599ae4c3d96"
      },
      "source": [
        "embedding_matrix, embedding_matrix.shape"
      ],
      "execution_count": 37,
      "outputs": [
        {
          "output_type": "execute_result",
          "data": {
            "text/plain": [
              "(array([[ 0.00000000e+00,  0.00000000e+00,  0.00000000e+00, ...,\n",
              "          0.00000000e+00,  0.00000000e+00,  0.00000000e+00],\n",
              "        [-1.09190005e-03,  3.33240002e-01,  3.57430011e-01, ...,\n",
              "         -4.56970006e-01, -4.89690006e-02,  1.13160002e+00],\n",
              "        [-2.91629992e-02,  8.17690015e-01,  3.84700000e-01, ...,\n",
              "         -5.41859984e-01,  3.24530005e-01,  5.84249973e-01],\n",
              "        ...,\n",
              "        [-2.28740007e-01, -5.71869984e-02, -4.41639990e-01, ...,\n",
              "         -2.94970006e-01,  1.58559993e-01,  8.31459984e-02],\n",
              "        [ 4.73809987e-02,  3.13349992e-01,  5.72910011e-02, ...,\n",
              "         -5.67919984e-02,  2.11429998e-01,  7.31350034e-02],\n",
              "        [ 1.20990001e-01,  1.01190001e-01, -1.80649996e-01, ...,\n",
              "         -2.03620002e-01,  4.19990003e-01,  2.55730003e-01]]), (194, 50))"
            ]
          },
          "metadata": {
            "tags": []
          },
          "execution_count": 37
        }
      ]
    },
    {
      "cell_type": "code",
      "metadata": {
        "id": "SXX7GebCJY0m"
      },
      "source": [
        "early_stopping = EarlyStopping(monitor='val_loss',patience=10)\n",
        "checkpoint = ModelCheckpoint(\"model-v1.h5\",\n",
        "                             monitor=\"val_loss\",\n",
        "                             mode=\"min\",\n",
        "                             save_best_only = True,\n",
        "                             verbose=1)\n",
        "reduce_lr = ReduceLROnPlateau(monitor = 'val_loss', factor = 0.2, patience = 3, verbose = 1, min_delta = 0.0001)\n",
        "callbacks = [early_stopping,checkpoint,reduce_lr]"
      ],
      "execution_count": 38,
      "outputs": []
    },
    {
      "cell_type": "code",
      "metadata": {
        "id": "DuXNRykCJb3G",
        "colab": {
          "base_uri": "https://localhost:8080/"
        },
        "outputId": "ec70b605-06f3-4ab7-ee38-2b1807dab4b2"
      },
      "source": [
        "def define_model(vocab_size, max_length):\n",
        "    model = Sequential()\n",
        "\n",
        "    model.add(Embedding(vocab_size,embedding_matrix.shape[1], input_length=max_length,trainable = False, weights = [embedding_matrix]))\n",
        "    model.add(Conv1D(filters=50, kernel_size=3,padding='same', activation='relu'))\n",
        "    model.add(MaxPooling1D(pool_size=3))\n",
        "    model.add(Bidirectional(LSTM(25)))\n",
        "    #model.add(Dropout(0.2))\n",
        "    model.add(Dense(13,activation = 'softmax'))\n",
        "\n",
        "    model.compile(loss = 'categorical_crossentropy',\n",
        "              optimizer = 'adam',\n",
        "              metrics = ['accuracy'])\n",
        "    model.summary()\n",
        "    history = model.fit(X_train, y_train, epochs=700, verbose=1,validation_data=(X_test,y_test),callbacks=callbacks)\n",
        "    acc = history.history['accuracy']\n",
        "    val_acc = history.history['val_accuracy']\n",
        "    loss=history.history['loss']\n",
        "    val_loss=history.history['val_loss']\n",
        "    return model,acc,val_acc,loss,val_loss\n",
        "    \n",
        "model,acc,val_acc,loss,val_loss = define_model(vocab_size, max_length)"
      ],
      "execution_count": 217,
      "outputs": [
        {
          "output_type": "stream",
          "text": [
            "Model: \"sequential_174\"\n",
            "_________________________________________________________________\n",
            "Layer (type)                 Output Shape              Param #   \n",
            "=================================================================\n",
            "embedding_174 (Embedding)    (None, 9, 50)             9700      \n",
            "_________________________________________________________________\n",
            "conv1d_174 (Conv1D)          (None, 9, 50)             7550      \n",
            "_________________________________________________________________\n",
            "max_pooling1d_160 (MaxPoolin (None, 3, 50)             0         \n",
            "_________________________________________________________________\n",
            "bidirectional_172 (Bidirecti (None, 50)                15200     \n",
            "_________________________________________________________________\n",
            "dense_175 (Dense)            (None, 13)                663       \n",
            "=================================================================\n",
            "Total params: 33,113\n",
            "Trainable params: 23,413\n",
            "Non-trainable params: 9,700\n",
            "_________________________________________________________________\n",
            "Epoch 1/700\n",
            "5/5 [==============================] - 6s 260ms/step - loss: 2.5447 - accuracy: 0.0411 - val_loss: 2.5370 - val_accuracy: 0.0769\n",
            "\n",
            "Epoch 00001: val_loss did not improve from 0.50535\n",
            "Epoch 2/700\n",
            "5/5 [==============================] - 0s 14ms/step - loss: 2.4617 - accuracy: 0.1096 - val_loss: 2.5019 - val_accuracy: 0.1538\n",
            "\n",
            "Epoch 00002: val_loss did not improve from 0.50535\n",
            "Epoch 3/700\n",
            "5/5 [==============================] - 0s 13ms/step - loss: 2.4085 - accuracy: 0.1370 - val_loss: 2.4698 - val_accuracy: 0.1538\n",
            "\n",
            "Epoch 00003: val_loss did not improve from 0.50535\n",
            "Epoch 4/700\n",
            "5/5 [==============================] - 0s 13ms/step - loss: 2.3570 - accuracy: 0.1712 - val_loss: 2.4321 - val_accuracy: 0.1538\n",
            "\n",
            "Epoch 00004: val_loss did not improve from 0.50535\n",
            "Epoch 5/700\n",
            "5/5 [==============================] - 0s 13ms/step - loss: 2.2971 - accuracy: 0.2329 - val_loss: 2.3880 - val_accuracy: 0.2308\n",
            "\n",
            "Epoch 00005: val_loss did not improve from 0.50535\n",
            "Epoch 6/700\n",
            "5/5 [==============================] - 0s 15ms/step - loss: 2.2372 - accuracy: 0.3356 - val_loss: 2.3426 - val_accuracy: 0.3846\n",
            "\n",
            "Epoch 00006: val_loss did not improve from 0.50535\n",
            "Epoch 7/700\n",
            "5/5 [==============================] - 0s 15ms/step - loss: 2.1651 - accuracy: 0.4452 - val_loss: 2.2891 - val_accuracy: 0.3846\n",
            "\n",
            "Epoch 00007: val_loss did not improve from 0.50535\n",
            "Epoch 8/700\n",
            "5/5 [==============================] - 0s 14ms/step - loss: 2.0810 - accuracy: 0.5479 - val_loss: 2.2310 - val_accuracy: 0.3846\n",
            "\n",
            "Epoch 00008: val_loss did not improve from 0.50535\n",
            "Epoch 9/700\n",
            "5/5 [==============================] - 0s 14ms/step - loss: 1.9843 - accuracy: 0.5411 - val_loss: 2.1719 - val_accuracy: 0.3077\n",
            "\n",
            "Epoch 00009: val_loss did not improve from 0.50535\n",
            "Epoch 10/700\n",
            "5/5 [==============================] - 0s 14ms/step - loss: 1.8702 - accuracy: 0.6164 - val_loss: 2.0821 - val_accuracy: 0.3077\n",
            "\n",
            "Epoch 00010: val_loss did not improve from 0.50535\n",
            "Epoch 11/700\n",
            "5/5 [==============================] - 0s 13ms/step - loss: 1.7525 - accuracy: 0.6575 - val_loss: 1.9967 - val_accuracy: 0.3077\n",
            "\n",
            "Epoch 00011: val_loss did not improve from 0.50535\n",
            "Epoch 12/700\n",
            "5/5 [==============================] - 0s 13ms/step - loss: 1.6269 - accuracy: 0.6781 - val_loss: 1.9126 - val_accuracy: 0.3077\n",
            "\n",
            "Epoch 00012: val_loss did not improve from 0.50535\n",
            "Epoch 13/700\n",
            "5/5 [==============================] - 0s 14ms/step - loss: 1.5085 - accuracy: 0.6781 - val_loss: 1.8387 - val_accuracy: 0.3077\n",
            "\n",
            "Epoch 00013: val_loss did not improve from 0.50535\n",
            "Epoch 14/700\n",
            "5/5 [==============================] - 0s 14ms/step - loss: 1.3878 - accuracy: 0.6986 - val_loss: 1.7459 - val_accuracy: 0.4615\n",
            "\n",
            "Epoch 00014: val_loss did not improve from 0.50535\n",
            "Epoch 15/700\n",
            "5/5 [==============================] - 0s 18ms/step - loss: 1.2756 - accuracy: 0.7397 - val_loss: 1.6634 - val_accuracy: 0.4615\n",
            "\n",
            "Epoch 00015: val_loss did not improve from 0.50535\n",
            "Epoch 16/700\n",
            "5/5 [==============================] - 0s 15ms/step - loss: 1.1734 - accuracy: 0.7808 - val_loss: 1.5758 - val_accuracy: 0.5385\n",
            "\n",
            "Epoch 00016: val_loss did not improve from 0.50535\n",
            "Epoch 17/700\n",
            "5/5 [==============================] - 0s 14ms/step - loss: 1.0824 - accuracy: 0.8014 - val_loss: 1.5100 - val_accuracy: 0.6154\n",
            "\n",
            "Epoch 00017: val_loss did not improve from 0.50535\n",
            "Epoch 18/700\n",
            "5/5 [==============================] - 0s 14ms/step - loss: 0.9945 - accuracy: 0.8562 - val_loss: 1.4654 - val_accuracy: 0.5385\n",
            "\n",
            "Epoch 00018: val_loss did not improve from 0.50535\n",
            "Epoch 19/700\n",
            "5/5 [==============================] - 0s 14ms/step - loss: 0.9074 - accuracy: 0.8562 - val_loss: 1.3923 - val_accuracy: 0.6154\n",
            "\n",
            "Epoch 00019: val_loss did not improve from 0.50535\n",
            "Epoch 20/700\n",
            "5/5 [==============================] - 0s 13ms/step - loss: 0.8418 - accuracy: 0.8699 - val_loss: 1.3397 - val_accuracy: 0.6154\n",
            "\n",
            "Epoch 00020: val_loss did not improve from 0.50535\n",
            "Epoch 21/700\n",
            "5/5 [==============================] - 0s 13ms/step - loss: 0.7773 - accuracy: 0.8836 - val_loss: 1.2807 - val_accuracy: 0.6923\n",
            "\n",
            "Epoch 00021: val_loss did not improve from 0.50535\n",
            "Epoch 22/700\n",
            "5/5 [==============================] - 0s 21ms/step - loss: 0.7090 - accuracy: 0.8904 - val_loss: 1.2466 - val_accuracy: 0.6154\n",
            "\n",
            "Epoch 00022: val_loss did not improve from 0.50535\n",
            "Epoch 23/700\n",
            "5/5 [==============================] - 0s 14ms/step - loss: 0.6568 - accuracy: 0.9041 - val_loss: 1.1817 - val_accuracy: 0.7692\n",
            "\n",
            "Epoch 00023: val_loss did not improve from 0.50535\n",
            "Epoch 24/700\n",
            "5/5 [==============================] - 0s 12ms/step - loss: 0.6090 - accuracy: 0.9041 - val_loss: 1.1489 - val_accuracy: 0.7692\n",
            "\n",
            "Epoch 00024: val_loss did not improve from 0.50535\n",
            "Epoch 25/700\n",
            "5/5 [==============================] - 0s 13ms/step - loss: 0.5555 - accuracy: 0.9384 - val_loss: 1.1360 - val_accuracy: 0.6923\n",
            "\n",
            "Epoch 00025: val_loss did not improve from 0.50535\n",
            "Epoch 26/700\n",
            "5/5 [==============================] - 0s 14ms/step - loss: 0.5205 - accuracy: 0.9315 - val_loss: 1.0805 - val_accuracy: 0.6923\n",
            "\n",
            "Epoch 00026: val_loss did not improve from 0.50535\n",
            "Epoch 27/700\n",
            "5/5 [==============================] - 0s 13ms/step - loss: 0.4718 - accuracy: 0.9384 - val_loss: 1.0367 - val_accuracy: 0.6923\n",
            "\n",
            "Epoch 00027: val_loss did not improve from 0.50535\n",
            "Epoch 28/700\n",
            "5/5 [==============================] - 0s 13ms/step - loss: 0.4310 - accuracy: 0.9452 - val_loss: 1.0231 - val_accuracy: 0.7692\n",
            "\n",
            "Epoch 00028: val_loss did not improve from 0.50535\n",
            "Epoch 29/700\n",
            "5/5 [==============================] - 0s 14ms/step - loss: 0.3999 - accuracy: 0.9452 - val_loss: 0.9889 - val_accuracy: 0.6154\n",
            "\n",
            "Epoch 00029: val_loss did not improve from 0.50535\n",
            "Epoch 30/700\n",
            "5/5 [==============================] - 0s 17ms/step - loss: 0.3660 - accuracy: 0.9589 - val_loss: 0.9400 - val_accuracy: 0.6923\n",
            "\n",
            "Epoch 00030: val_loss did not improve from 0.50535\n",
            "Epoch 31/700\n",
            "5/5 [==============================] - 0s 14ms/step - loss: 0.3338 - accuracy: 0.9658 - val_loss: 0.9199 - val_accuracy: 0.7692\n",
            "\n",
            "Epoch 00031: val_loss did not improve from 0.50535\n",
            "Epoch 32/700\n",
            "5/5 [==============================] - 0s 14ms/step - loss: 0.3071 - accuracy: 0.9658 - val_loss: 0.9081 - val_accuracy: 0.6923\n",
            "\n",
            "Epoch 00032: val_loss did not improve from 0.50535\n",
            "Epoch 33/700\n",
            "5/5 [==============================] - 0s 14ms/step - loss: 0.2838 - accuracy: 0.9795 - val_loss: 0.8694 - val_accuracy: 0.7692\n",
            "\n",
            "Epoch 00033: val_loss did not improve from 0.50535\n",
            "Epoch 34/700\n",
            "5/5 [==============================] - 0s 13ms/step - loss: 0.2614 - accuracy: 0.9863 - val_loss: 0.8394 - val_accuracy: 0.7692\n",
            "\n",
            "Epoch 00034: val_loss did not improve from 0.50535\n",
            "Epoch 35/700\n",
            "5/5 [==============================] - 0s 13ms/step - loss: 0.2433 - accuracy: 0.9863 - val_loss: 0.8000 - val_accuracy: 0.7692\n",
            "\n",
            "Epoch 00035: val_loss did not improve from 0.50535\n",
            "Epoch 36/700\n",
            "5/5 [==============================] - 0s 13ms/step - loss: 0.2259 - accuracy: 0.9863 - val_loss: 0.8053 - val_accuracy: 0.7692\n",
            "\n",
            "Epoch 00036: val_loss did not improve from 0.50535\n",
            "Epoch 37/700\n",
            "5/5 [==============================] - 0s 15ms/step - loss: 0.2091 - accuracy: 0.9863 - val_loss: 0.7686 - val_accuracy: 0.7692\n",
            "\n",
            "Epoch 00037: val_loss did not improve from 0.50535\n",
            "Epoch 38/700\n",
            "5/5 [==============================] - 0s 13ms/step - loss: 0.1948 - accuracy: 0.9863 - val_loss: 0.7352 - val_accuracy: 0.7692\n",
            "\n",
            "Epoch 00038: val_loss did not improve from 0.50535\n",
            "Epoch 39/700\n",
            "5/5 [==============================] - 0s 14ms/step - loss: 0.1821 - accuracy: 0.9863 - val_loss: 0.7278 - val_accuracy: 0.8462\n",
            "\n",
            "Epoch 00039: val_loss did not improve from 0.50535\n",
            "Epoch 40/700\n",
            "5/5 [==============================] - 0s 14ms/step - loss: 0.1716 - accuracy: 0.9863 - val_loss: 0.7166 - val_accuracy: 0.7692\n",
            "\n",
            "Epoch 00040: val_loss did not improve from 0.50535\n",
            "Epoch 41/700\n",
            "5/5 [==============================] - 0s 12ms/step - loss: 0.1598 - accuracy: 0.9932 - val_loss: 0.6939 - val_accuracy: 0.7692\n",
            "\n",
            "Epoch 00041: val_loss did not improve from 0.50535\n",
            "Epoch 42/700\n",
            "5/5 [==============================] - 0s 15ms/step - loss: 0.1512 - accuracy: 0.9932 - val_loss: 0.6755 - val_accuracy: 0.6923\n",
            "\n",
            "Epoch 00042: val_loss did not improve from 0.50535\n",
            "Epoch 43/700\n",
            "5/5 [==============================] - 0s 15ms/step - loss: 0.1430 - accuracy: 0.9932 - val_loss: 0.6516 - val_accuracy: 0.7692\n",
            "\n",
            "Epoch 00043: val_loss did not improve from 0.50535\n",
            "Epoch 44/700\n",
            "5/5 [==============================] - 0s 17ms/step - loss: 0.1327 - accuracy: 0.9932 - val_loss: 0.6367 - val_accuracy: 0.7692\n",
            "\n",
            "Epoch 00044: val_loss did not improve from 0.50535\n",
            "Epoch 45/700\n",
            "5/5 [==============================] - 0s 13ms/step - loss: 0.1268 - accuracy: 0.9932 - val_loss: 0.6243 - val_accuracy: 0.7692\n",
            "\n",
            "Epoch 00045: val_loss did not improve from 0.50535\n",
            "Epoch 46/700\n",
            "5/5 [==============================] - 0s 15ms/step - loss: 0.1179 - accuracy: 0.9932 - val_loss: 0.6178 - val_accuracy: 0.8462\n",
            "\n",
            "Epoch 00046: val_loss did not improve from 0.50535\n",
            "Epoch 47/700\n",
            "5/5 [==============================] - 0s 15ms/step - loss: 0.1126 - accuracy: 0.9932 - val_loss: 0.6003 - val_accuracy: 0.7692\n",
            "\n",
            "Epoch 00047: val_loss did not improve from 0.50535\n",
            "Epoch 48/700\n",
            "5/5 [==============================] - 0s 14ms/step - loss: 0.1070 - accuracy: 0.9932 - val_loss: 0.5896 - val_accuracy: 0.8462\n",
            "\n",
            "Epoch 00048: val_loss did not improve from 0.50535\n",
            "Epoch 49/700\n",
            "5/5 [==============================] - 0s 13ms/step - loss: 0.1008 - accuracy: 0.9932 - val_loss: 0.5876 - val_accuracy: 0.8462\n",
            "\n",
            "Epoch 00049: val_loss did not improve from 0.50535\n",
            "Epoch 50/700\n",
            "5/5 [==============================] - 0s 15ms/step - loss: 0.0961 - accuracy: 0.9932 - val_loss: 0.5776 - val_accuracy: 0.8462\n",
            "\n",
            "Epoch 00050: val_loss did not improve from 0.50535\n",
            "Epoch 51/700\n",
            "5/5 [==============================] - 0s 12ms/step - loss: 0.0915 - accuracy: 0.9932 - val_loss: 0.5580 - val_accuracy: 0.8462\n",
            "\n",
            "Epoch 00051: val_loss did not improve from 0.50535\n",
            "Epoch 52/700\n",
            "5/5 [==============================] - 0s 13ms/step - loss: 0.0878 - accuracy: 0.9932 - val_loss: 0.5389 - val_accuracy: 0.7692\n",
            "\n",
            "Epoch 00052: val_loss did not improve from 0.50535\n",
            "Epoch 53/700\n",
            "5/5 [==============================] - 0s 14ms/step - loss: 0.0832 - accuracy: 0.9932 - val_loss: 0.5308 - val_accuracy: 0.9231\n",
            "\n",
            "Epoch 00053: val_loss did not improve from 0.50535\n",
            "Epoch 54/700\n",
            "5/5 [==============================] - 0s 16ms/step - loss: 0.0801 - accuracy: 0.9932 - val_loss: 0.5365 - val_accuracy: 0.9231\n",
            "\n",
            "Epoch 00054: val_loss did not improve from 0.50535\n",
            "Epoch 55/700\n",
            "5/5 [==============================] - 0s 13ms/step - loss: 0.0767 - accuracy: 0.9932 - val_loss: 0.5353 - val_accuracy: 0.8462\n",
            "\n",
            "Epoch 00055: val_loss did not improve from 0.50535\n",
            "Epoch 56/700\n",
            "5/5 [==============================] - 0s 13ms/step - loss: 0.0738 - accuracy: 0.9932 - val_loss: 0.5175 - val_accuracy: 0.8462\n",
            "\n",
            "Epoch 00056: val_loss did not improve from 0.50535\n",
            "Epoch 57/700\n",
            "5/5 [==============================] - 0s 12ms/step - loss: 0.0704 - accuracy: 0.9932 - val_loss: 0.5033 - val_accuracy: 0.9231\n",
            "\n",
            "Epoch 00057: val_loss improved from 0.50535 to 0.50329, saving model to model-v1.h5\n",
            "Epoch 58/700\n",
            "5/5 [==============================] - 0s 14ms/step - loss: 0.0686 - accuracy: 0.9932 - val_loss: 0.4943 - val_accuracy: 0.9231\n",
            "\n",
            "Epoch 00058: val_loss improved from 0.50329 to 0.49428, saving model to model-v1.h5\n",
            "Epoch 59/700\n",
            "5/5 [==============================] - 0s 15ms/step - loss: 0.0658 - accuracy: 0.9932 - val_loss: 0.4847 - val_accuracy: 0.9231\n",
            "\n",
            "Epoch 00059: val_loss improved from 0.49428 to 0.48468, saving model to model-v1.h5\n",
            "Epoch 60/700\n",
            "5/5 [==============================] - 0s 14ms/step - loss: 0.0632 - accuracy: 0.9932 - val_loss: 0.4817 - val_accuracy: 0.8462\n",
            "\n",
            "Epoch 00060: val_loss improved from 0.48468 to 0.48165, saving model to model-v1.h5\n",
            "Epoch 61/700\n",
            "5/5 [==============================] - 0s 14ms/step - loss: 0.0609 - accuracy: 0.9932 - val_loss: 0.4838 - val_accuracy: 0.9231\n",
            "\n",
            "Epoch 00061: val_loss did not improve from 0.48165\n",
            "Epoch 62/700\n",
            "5/5 [==============================] - 0s 16ms/step - loss: 0.0591 - accuracy: 0.9932 - val_loss: 0.4808 - val_accuracy: 0.9231\n",
            "\n",
            "Epoch 00062: val_loss improved from 0.48165 to 0.48077, saving model to model-v1.h5\n",
            "Epoch 63/700\n",
            "5/5 [==============================] - 0s 14ms/step - loss: 0.0570 - accuracy: 0.9932 - val_loss: 0.4759 - val_accuracy: 0.8462\n",
            "\n",
            "Epoch 00063: val_loss improved from 0.48077 to 0.47587, saving model to model-v1.h5\n",
            "Epoch 64/700\n",
            "5/5 [==============================] - 0s 13ms/step - loss: 0.0553 - accuracy: 0.9932 - val_loss: 0.4692 - val_accuracy: 0.8462\n",
            "\n",
            "Epoch 00064: val_loss improved from 0.47587 to 0.46923, saving model to model-v1.h5\n",
            "Epoch 65/700\n",
            "5/5 [==============================] - 0s 14ms/step - loss: 0.0536 - accuracy: 0.9932 - val_loss: 0.4560 - val_accuracy: 0.9231\n",
            "\n",
            "Epoch 00065: val_loss improved from 0.46923 to 0.45598, saving model to model-v1.h5\n",
            "Epoch 66/700\n",
            "5/5 [==============================] - 0s 14ms/step - loss: 0.0521 - accuracy: 0.9932 - val_loss: 0.4517 - val_accuracy: 0.9231\n",
            "\n",
            "Epoch 00066: val_loss improved from 0.45598 to 0.45172, saving model to model-v1.h5\n",
            "Epoch 67/700\n",
            "5/5 [==============================] - 0s 16ms/step - loss: 0.0505 - accuracy: 0.9932 - val_loss: 0.4452 - val_accuracy: 0.9231\n",
            "\n",
            "Epoch 00067: val_loss improved from 0.45172 to 0.44521, saving model to model-v1.h5\n",
            "Epoch 68/700\n",
            "5/5 [==============================] - 0s 12ms/step - loss: 0.0492 - accuracy: 0.9932 - val_loss: 0.4420 - val_accuracy: 0.9231\n",
            "\n",
            "Epoch 00068: val_loss improved from 0.44521 to 0.44201, saving model to model-v1.h5\n",
            "Epoch 69/700\n",
            "5/5 [==============================] - 0s 15ms/step - loss: 0.0478 - accuracy: 0.9932 - val_loss: 0.4391 - val_accuracy: 0.9231\n",
            "\n",
            "Epoch 00069: val_loss improved from 0.44201 to 0.43914, saving model to model-v1.h5\n",
            "Epoch 70/700\n",
            "5/5 [==============================] - 0s 16ms/step - loss: 0.0465 - accuracy: 0.9932 - val_loss: 0.4326 - val_accuracy: 0.9231\n",
            "\n",
            "Epoch 00070: val_loss improved from 0.43914 to 0.43257, saving model to model-v1.h5\n",
            "Epoch 71/700\n",
            "5/5 [==============================] - 0s 12ms/step - loss: 0.0453 - accuracy: 0.9932 - val_loss: 0.4248 - val_accuracy: 0.9231\n",
            "\n",
            "Epoch 00071: val_loss improved from 0.43257 to 0.42483, saving model to model-v1.h5\n",
            "Epoch 72/700\n",
            "5/5 [==============================] - 0s 13ms/step - loss: 0.0442 - accuracy: 0.9932 - val_loss: 0.4248 - val_accuracy: 0.9231\n",
            "\n",
            "Epoch 00072: val_loss improved from 0.42483 to 0.42477, saving model to model-v1.h5\n",
            "Epoch 73/700\n",
            "5/5 [==============================] - 0s 13ms/step - loss: 0.0431 - accuracy: 0.9932 - val_loss: 0.4236 - val_accuracy: 0.9231\n",
            "\n",
            "Epoch 00073: val_loss improved from 0.42477 to 0.42358, saving model to model-v1.h5\n",
            "Epoch 74/700\n",
            "5/5 [==============================] - 0s 13ms/step - loss: 0.0420 - accuracy: 0.9932 - val_loss: 0.4193 - val_accuracy: 0.9231\n",
            "\n",
            "Epoch 00074: val_loss improved from 0.42358 to 0.41925, saving model to model-v1.h5\n",
            "Epoch 75/700\n",
            "5/5 [==============================] - 0s 14ms/step - loss: 0.0411 - accuracy: 0.9932 - val_loss: 0.4140 - val_accuracy: 0.9231\n",
            "\n",
            "Epoch 00075: val_loss improved from 0.41925 to 0.41397, saving model to model-v1.h5\n",
            "Epoch 76/700\n",
            "5/5 [==============================] - 0s 14ms/step - loss: 0.0401 - accuracy: 0.9932 - val_loss: 0.4076 - val_accuracy: 0.9231\n",
            "\n",
            "Epoch 00076: val_loss improved from 0.41397 to 0.40756, saving model to model-v1.h5\n",
            "Epoch 77/700\n",
            "5/5 [==============================] - 0s 13ms/step - loss: 0.0392 - accuracy: 0.9932 - val_loss: 0.4035 - val_accuracy: 0.9231\n",
            "\n",
            "Epoch 00077: val_loss improved from 0.40756 to 0.40348, saving model to model-v1.h5\n",
            "Epoch 78/700\n",
            "5/5 [==============================] - 0s 15ms/step - loss: 0.0384 - accuracy: 0.9932 - val_loss: 0.3995 - val_accuracy: 0.9231\n",
            "\n",
            "Epoch 00078: val_loss improved from 0.40348 to 0.39951, saving model to model-v1.h5\n",
            "Epoch 79/700\n",
            "5/5 [==============================] - 0s 13ms/step - loss: 0.0377 - accuracy: 0.9932 - val_loss: 0.3930 - val_accuracy: 0.9231\n",
            "\n",
            "Epoch 00079: val_loss improved from 0.39951 to 0.39305, saving model to model-v1.h5\n",
            "Epoch 80/700\n",
            "5/5 [==============================] - 0s 18ms/step - loss: 0.0367 - accuracy: 0.9932 - val_loss: 0.3889 - val_accuracy: 0.9231\n",
            "\n",
            "Epoch 00080: val_loss improved from 0.39305 to 0.38890, saving model to model-v1.h5\n",
            "Epoch 81/700\n",
            "5/5 [==============================] - 0s 14ms/step - loss: 0.0358 - accuracy: 0.9932 - val_loss: 0.3869 - val_accuracy: 0.9231\n",
            "\n",
            "Epoch 00081: val_loss improved from 0.38890 to 0.38693, saving model to model-v1.h5\n",
            "Epoch 82/700\n",
            "5/5 [==============================] - 0s 13ms/step - loss: 0.0351 - accuracy: 0.9932 - val_loss: 0.3846 - val_accuracy: 0.9231\n",
            "\n",
            "Epoch 00082: val_loss improved from 0.38693 to 0.38458, saving model to model-v1.h5\n",
            "Epoch 83/700\n",
            "5/5 [==============================] - 0s 14ms/step - loss: 0.0342 - accuracy: 0.9932 - val_loss: 0.3819 - val_accuracy: 0.9231\n",
            "\n",
            "Epoch 00083: val_loss improved from 0.38458 to 0.38189, saving model to model-v1.h5\n",
            "Epoch 84/700\n",
            "5/5 [==============================] - 0s 13ms/step - loss: 0.0337 - accuracy: 0.9932 - val_loss: 0.3767 - val_accuracy: 0.9231\n",
            "\n",
            "Epoch 00084: val_loss improved from 0.38189 to 0.37666, saving model to model-v1.h5\n",
            "Epoch 85/700\n",
            "5/5 [==============================] - 0s 17ms/step - loss: 0.0329 - accuracy: 0.9932 - val_loss: 0.3731 - val_accuracy: 0.9231\n",
            "\n",
            "Epoch 00085: val_loss improved from 0.37666 to 0.37307, saving model to model-v1.h5\n",
            "Epoch 86/700\n",
            "5/5 [==============================] - 0s 16ms/step - loss: 0.0322 - accuracy: 0.9932 - val_loss: 0.3689 - val_accuracy: 0.9231\n",
            "\n",
            "Epoch 00086: val_loss improved from 0.37307 to 0.36894, saving model to model-v1.h5\n",
            "Epoch 87/700\n",
            "5/5 [==============================] - 0s 13ms/step - loss: 0.0316 - accuracy: 0.9932 - val_loss: 0.3702 - val_accuracy: 0.9231\n",
            "\n",
            "Epoch 00087: val_loss did not improve from 0.36894\n",
            "Epoch 88/700\n",
            "5/5 [==============================] - 0s 13ms/step - loss: 0.0309 - accuracy: 0.9932 - val_loss: 0.3654 - val_accuracy: 0.9231\n",
            "\n",
            "Epoch 00088: val_loss improved from 0.36894 to 0.36539, saving model to model-v1.h5\n",
            "Epoch 89/700\n",
            "5/5 [==============================] - 0s 14ms/step - loss: 0.0303 - accuracy: 0.9932 - val_loss: 0.3582 - val_accuracy: 0.9231\n",
            "\n",
            "Epoch 00089: val_loss improved from 0.36539 to 0.35820, saving model to model-v1.h5\n",
            "Epoch 90/700\n",
            "5/5 [==============================] - 0s 13ms/step - loss: 0.0298 - accuracy: 0.9932 - val_loss: 0.3498 - val_accuracy: 1.0000\n",
            "\n",
            "Epoch 00090: val_loss improved from 0.35820 to 0.34981, saving model to model-v1.h5\n",
            "Epoch 91/700\n",
            "5/5 [==============================] - 0s 14ms/step - loss: 0.0292 - accuracy: 1.0000 - val_loss: 0.3460 - val_accuracy: 1.0000\n",
            "\n",
            "Epoch 00091: val_loss improved from 0.34981 to 0.34598, saving model to model-v1.h5\n",
            "Epoch 92/700\n",
            "5/5 [==============================] - 0s 14ms/step - loss: 0.0286 - accuracy: 1.0000 - val_loss: 0.3460 - val_accuracy: 1.0000\n",
            "\n",
            "Epoch 00092: val_loss did not improve from 0.34598\n",
            "Epoch 93/700\n",
            "5/5 [==============================] - 0s 13ms/step - loss: 0.0281 - accuracy: 1.0000 - val_loss: 0.3475 - val_accuracy: 1.0000\n",
            "\n",
            "Epoch 00093: val_loss did not improve from 0.34598\n",
            "Epoch 94/700\n",
            "5/5 [==============================] - 0s 13ms/step - loss: 0.0276 - accuracy: 1.0000 - val_loss: 0.3480 - val_accuracy: 1.0000\n",
            "\n",
            "Epoch 00094: val_loss did not improve from 0.34598\n",
            "\n",
            "Epoch 00094: ReduceLROnPlateau reducing learning rate to 0.00020000000949949026.\n",
            "Epoch 95/700\n",
            "5/5 [==============================] - 0s 14ms/step - loss: 0.0272 - accuracy: 1.0000 - val_loss: 0.3456 - val_accuracy: 1.0000\n",
            "\n",
            "Epoch 00095: val_loss improved from 0.34598 to 0.34560, saving model to model-v1.h5\n",
            "Epoch 96/700\n",
            "5/5 [==============================] - 0s 16ms/step - loss: 0.0271 - accuracy: 1.0000 - val_loss: 0.3430 - val_accuracy: 1.0000\n",
            "\n",
            "Epoch 00096: val_loss improved from 0.34560 to 0.34301, saving model to model-v1.h5\n",
            "Epoch 97/700\n",
            "5/5 [==============================] - 0s 14ms/step - loss: 0.0269 - accuracy: 1.0000 - val_loss: 0.3413 - val_accuracy: 1.0000\n",
            "\n",
            "Epoch 00097: val_loss improved from 0.34301 to 0.34129, saving model to model-v1.h5\n",
            "Epoch 98/700\n",
            "5/5 [==============================] - 0s 13ms/step - loss: 0.0268 - accuracy: 1.0000 - val_loss: 0.3394 - val_accuracy: 1.0000\n",
            "\n",
            "Epoch 00098: val_loss improved from 0.34129 to 0.33943, saving model to model-v1.h5\n",
            "Epoch 99/700\n",
            "5/5 [==============================] - 0s 16ms/step - loss: 0.0267 - accuracy: 1.0000 - val_loss: 0.3382 - val_accuracy: 1.0000\n",
            "\n",
            "Epoch 00099: val_loss improved from 0.33943 to 0.33824, saving model to model-v1.h5\n",
            "Epoch 100/700\n",
            "5/5 [==============================] - 0s 14ms/step - loss: 0.0266 - accuracy: 1.0000 - val_loss: 0.3367 - val_accuracy: 1.0000\n",
            "\n",
            "Epoch 00100: val_loss improved from 0.33824 to 0.33666, saving model to model-v1.h5\n",
            "Epoch 101/700\n",
            "5/5 [==============================] - 0s 13ms/step - loss: 0.0265 - accuracy: 1.0000 - val_loss: 0.3354 - val_accuracy: 1.0000\n",
            "\n",
            "Epoch 00101: val_loss improved from 0.33666 to 0.33538, saving model to model-v1.h5\n",
            "Epoch 102/700\n",
            "5/5 [==============================] - 0s 14ms/step - loss: 0.0264 - accuracy: 1.0000 - val_loss: 0.3343 - val_accuracy: 1.0000\n",
            "\n",
            "Epoch 00102: val_loss improved from 0.33538 to 0.33432, saving model to model-v1.h5\n",
            "Epoch 103/700\n",
            "5/5 [==============================] - 0s 14ms/step - loss: 0.0263 - accuracy: 1.0000 - val_loss: 0.3334 - val_accuracy: 1.0000\n",
            "\n",
            "Epoch 00103: val_loss improved from 0.33432 to 0.33337, saving model to model-v1.h5\n",
            "Epoch 104/700\n",
            "5/5 [==============================] - 0s 14ms/step - loss: 0.0262 - accuracy: 1.0000 - val_loss: 0.3329 - val_accuracy: 1.0000\n",
            "\n",
            "Epoch 00104: val_loss improved from 0.33337 to 0.33294, saving model to model-v1.h5\n",
            "Epoch 105/700\n",
            "5/5 [==============================] - 0s 14ms/step - loss: 0.0261 - accuracy: 1.0000 - val_loss: 0.3326 - val_accuracy: 1.0000\n",
            "\n",
            "Epoch 00105: val_loss improved from 0.33294 to 0.33264, saving model to model-v1.h5\n",
            "Epoch 106/700\n",
            "5/5 [==============================] - 0s 14ms/step - loss: 0.0260 - accuracy: 1.0000 - val_loss: 0.3325 - val_accuracy: 1.0000\n",
            "\n",
            "Epoch 00106: val_loss improved from 0.33264 to 0.33248, saving model to model-v1.h5\n",
            "Epoch 107/700\n",
            "5/5 [==============================] - 0s 13ms/step - loss: 0.0259 - accuracy: 1.0000 - val_loss: 0.3310 - val_accuracy: 1.0000\n",
            "\n",
            "Epoch 00107: val_loss improved from 0.33248 to 0.33104, saving model to model-v1.h5\n",
            "Epoch 108/700\n",
            "5/5 [==============================] - 0s 13ms/step - loss: 0.0258 - accuracy: 1.0000 - val_loss: 0.3306 - val_accuracy: 1.0000\n",
            "\n",
            "Epoch 00108: val_loss improved from 0.33104 to 0.33061, saving model to model-v1.h5\n",
            "Epoch 109/700\n",
            "5/5 [==============================] - 0s 15ms/step - loss: 0.0257 - accuracy: 1.0000 - val_loss: 0.3296 - val_accuracy: 1.0000\n",
            "\n",
            "Epoch 00109: val_loss improved from 0.33061 to 0.32956, saving model to model-v1.h5\n",
            "Epoch 110/700\n",
            "5/5 [==============================] - 0s 14ms/step - loss: 0.0256 - accuracy: 1.0000 - val_loss: 0.3293 - val_accuracy: 1.0000\n",
            "\n",
            "Epoch 00110: val_loss improved from 0.32956 to 0.32933, saving model to model-v1.h5\n",
            "Epoch 111/700\n",
            "5/5 [==============================] - 0s 14ms/step - loss: 0.0255 - accuracy: 1.0000 - val_loss: 0.3289 - val_accuracy: 1.0000\n",
            "\n",
            "Epoch 00111: val_loss improved from 0.32933 to 0.32894, saving model to model-v1.h5\n",
            "Epoch 112/700\n",
            "5/5 [==============================] - 0s 15ms/step - loss: 0.0254 - accuracy: 1.0000 - val_loss: 0.3285 - val_accuracy: 1.0000\n",
            "\n",
            "Epoch 00112: val_loss improved from 0.32894 to 0.32853, saving model to model-v1.h5\n",
            "Epoch 113/700\n",
            "5/5 [==============================] - 0s 17ms/step - loss: 0.0253 - accuracy: 1.0000 - val_loss: 0.3285 - val_accuracy: 1.0000\n",
            "\n",
            "Epoch 00113: val_loss improved from 0.32853 to 0.32847, saving model to model-v1.h5\n",
            "Epoch 114/700\n",
            "5/5 [==============================] - 0s 15ms/step - loss: 0.0252 - accuracy: 1.0000 - val_loss: 0.3282 - val_accuracy: 1.0000\n",
            "\n",
            "Epoch 00114: val_loss improved from 0.32847 to 0.32820, saving model to model-v1.h5\n",
            "Epoch 115/700\n",
            "5/5 [==============================] - 0s 16ms/step - loss: 0.0251 - accuracy: 1.0000 - val_loss: 0.3281 - val_accuracy: 1.0000\n",
            "\n",
            "Epoch 00115: val_loss improved from 0.32820 to 0.32808, saving model to model-v1.h5\n",
            "Epoch 116/700\n",
            "5/5 [==============================] - 0s 14ms/step - loss: 0.0250 - accuracy: 1.0000 - val_loss: 0.3275 - val_accuracy: 1.0000\n",
            "\n",
            "Epoch 00116: val_loss improved from 0.32808 to 0.32751, saving model to model-v1.h5\n",
            "Epoch 117/700\n",
            "5/5 [==============================] - 0s 15ms/step - loss: 0.0249 - accuracy: 1.0000 - val_loss: 0.3264 - val_accuracy: 1.0000\n",
            "\n",
            "Epoch 00117: val_loss improved from 0.32751 to 0.32639, saving model to model-v1.h5\n",
            "Epoch 118/700\n",
            "5/5 [==============================] - 0s 15ms/step - loss: 0.0248 - accuracy: 1.0000 - val_loss: 0.3255 - val_accuracy: 1.0000\n",
            "\n",
            "Epoch 00118: val_loss improved from 0.32639 to 0.32549, saving model to model-v1.h5\n",
            "Epoch 119/700\n",
            "5/5 [==============================] - 0s 13ms/step - loss: 0.0247 - accuracy: 1.0000 - val_loss: 0.3254 - val_accuracy: 1.0000\n",
            "\n",
            "Epoch 00119: val_loss improved from 0.32549 to 0.32542, saving model to model-v1.h5\n",
            "Epoch 120/700\n",
            "5/5 [==============================] - 0s 12ms/step - loss: 0.0246 - accuracy: 1.0000 - val_loss: 0.3249 - val_accuracy: 1.0000\n",
            "\n",
            "Epoch 00120: val_loss improved from 0.32542 to 0.32486, saving model to model-v1.h5\n",
            "Epoch 121/700\n",
            "5/5 [==============================] - 0s 15ms/step - loss: 0.0245 - accuracy: 1.0000 - val_loss: 0.3246 - val_accuracy: 1.0000\n",
            "\n",
            "Epoch 00121: val_loss improved from 0.32486 to 0.32462, saving model to model-v1.h5\n",
            "Epoch 122/700\n",
            "5/5 [==============================] - 0s 13ms/step - loss: 0.0244 - accuracy: 1.0000 - val_loss: 0.3236 - val_accuracy: 1.0000\n",
            "\n",
            "Epoch 00122: val_loss improved from 0.32462 to 0.32359, saving model to model-v1.h5\n",
            "Epoch 123/700\n",
            "5/5 [==============================] - 0s 14ms/step - loss: 0.0243 - accuracy: 1.0000 - val_loss: 0.3227 - val_accuracy: 1.0000\n",
            "\n",
            "Epoch 00123: val_loss improved from 0.32359 to 0.32273, saving model to model-v1.h5\n",
            "Epoch 124/700\n",
            "5/5 [==============================] - 0s 14ms/step - loss: 0.0242 - accuracy: 1.0000 - val_loss: 0.3220 - val_accuracy: 1.0000\n",
            "\n",
            "Epoch 00124: val_loss improved from 0.32273 to 0.32196, saving model to model-v1.h5\n",
            "Epoch 125/700\n",
            "5/5 [==============================] - 0s 13ms/step - loss: 0.0241 - accuracy: 1.0000 - val_loss: 0.3219 - val_accuracy: 1.0000\n",
            "\n",
            "Epoch 00125: val_loss improved from 0.32196 to 0.32188, saving model to model-v1.h5\n",
            "Epoch 126/700\n",
            "5/5 [==============================] - 0s 14ms/step - loss: 0.0240 - accuracy: 1.0000 - val_loss: 0.3216 - val_accuracy: 1.0000\n",
            "\n",
            "Epoch 00126: val_loss improved from 0.32188 to 0.32156, saving model to model-v1.h5\n",
            "Epoch 127/700\n",
            "5/5 [==============================] - 0s 16ms/step - loss: 0.0239 - accuracy: 1.0000 - val_loss: 0.3210 - val_accuracy: 1.0000\n",
            "\n",
            "Epoch 00127: val_loss improved from 0.32156 to 0.32097, saving model to model-v1.h5\n",
            "Epoch 128/700\n",
            "5/5 [==============================] - 0s 15ms/step - loss: 0.0238 - accuracy: 1.0000 - val_loss: 0.3197 - val_accuracy: 1.0000\n",
            "\n",
            "Epoch 00128: val_loss improved from 0.32097 to 0.31973, saving model to model-v1.h5\n",
            "Epoch 129/700\n",
            "5/5 [==============================] - 0s 13ms/step - loss: 0.0237 - accuracy: 1.0000 - val_loss: 0.3177 - val_accuracy: 1.0000\n",
            "\n",
            "Epoch 00129: val_loss improved from 0.31973 to 0.31772, saving model to model-v1.h5\n",
            "Epoch 130/700\n",
            "5/5 [==============================] - 0s 13ms/step - loss: 0.0236 - accuracy: 1.0000 - val_loss: 0.3170 - val_accuracy: 1.0000\n",
            "\n",
            "Epoch 00130: val_loss improved from 0.31772 to 0.31700, saving model to model-v1.h5\n",
            "Epoch 131/700\n",
            "5/5 [==============================] - 0s 14ms/step - loss: 0.0235 - accuracy: 1.0000 - val_loss: 0.3162 - val_accuracy: 1.0000\n",
            "\n",
            "Epoch 00131: val_loss improved from 0.31700 to 0.31617, saving model to model-v1.h5\n",
            "Epoch 132/700\n",
            "5/5 [==============================] - 0s 15ms/step - loss: 0.0234 - accuracy: 1.0000 - val_loss: 0.3145 - val_accuracy: 1.0000\n",
            "\n",
            "Epoch 00132: val_loss improved from 0.31617 to 0.31449, saving model to model-v1.h5\n",
            "Epoch 133/700\n",
            "5/5 [==============================] - 0s 14ms/step - loss: 0.0233 - accuracy: 1.0000 - val_loss: 0.3141 - val_accuracy: 1.0000\n",
            "\n",
            "Epoch 00133: val_loss improved from 0.31449 to 0.31406, saving model to model-v1.h5\n",
            "Epoch 134/700\n",
            "5/5 [==============================] - 0s 14ms/step - loss: 0.0232 - accuracy: 1.0000 - val_loss: 0.3141 - val_accuracy: 1.0000\n",
            "\n",
            "Epoch 00134: val_loss did not improve from 0.31406\n",
            "Epoch 135/700\n",
            "5/5 [==============================] - 0s 15ms/step - loss: 0.0231 - accuracy: 1.0000 - val_loss: 0.3140 - val_accuracy: 1.0000\n",
            "\n",
            "Epoch 00135: val_loss improved from 0.31406 to 0.31401, saving model to model-v1.h5\n",
            "Epoch 136/700\n",
            "5/5 [==============================] - 0s 14ms/step - loss: 0.0230 - accuracy: 1.0000 - val_loss: 0.3140 - val_accuracy: 1.0000\n",
            "\n",
            "Epoch 00136: val_loss did not improve from 0.31401\n",
            "\n",
            "Epoch 00136: ReduceLROnPlateau reducing learning rate to 4.0000001899898055e-05.\n",
            "Epoch 137/700\n",
            "5/5 [==============================] - 0s 15ms/step - loss: 0.0229 - accuracy: 1.0000 - val_loss: 0.3140 - val_accuracy: 1.0000\n",
            "\n",
            "Epoch 00137: val_loss did not improve from 0.31401\n",
            "Epoch 138/700\n",
            "5/5 [==============================] - 0s 14ms/step - loss: 0.0229 - accuracy: 1.0000 - val_loss: 0.3138 - val_accuracy: 1.0000\n",
            "\n",
            "Epoch 00138: val_loss improved from 0.31401 to 0.31376, saving model to model-v1.h5\n",
            "Epoch 139/700\n",
            "5/5 [==============================] - 0s 15ms/step - loss: 0.0229 - accuracy: 1.0000 - val_loss: 0.3136 - val_accuracy: 1.0000\n",
            "\n",
            "Epoch 00139: val_loss improved from 0.31376 to 0.31362, saving model to model-v1.h5\n",
            "Epoch 140/700\n",
            "5/5 [==============================] - 0s 13ms/step - loss: 0.0229 - accuracy: 1.0000 - val_loss: 0.3136 - val_accuracy: 1.0000\n",
            "\n",
            "Epoch 00140: val_loss improved from 0.31362 to 0.31359, saving model to model-v1.h5\n",
            "Epoch 141/700\n",
            "5/5 [==============================] - 0s 14ms/step - loss: 0.0228 - accuracy: 1.0000 - val_loss: 0.3134 - val_accuracy: 1.0000\n",
            "\n",
            "Epoch 00141: val_loss improved from 0.31359 to 0.31343, saving model to model-v1.h5\n",
            "Epoch 142/700\n",
            "5/5 [==============================] - 0s 13ms/step - loss: 0.0228 - accuracy: 1.0000 - val_loss: 0.3132 - val_accuracy: 1.0000\n",
            "\n",
            "Epoch 00142: val_loss improved from 0.31343 to 0.31323, saving model to model-v1.h5\n",
            "Epoch 143/700\n",
            "5/5 [==============================] - 0s 16ms/step - loss: 0.0228 - accuracy: 1.0000 - val_loss: 0.3131 - val_accuracy: 1.0000\n",
            "\n",
            "Epoch 00143: val_loss improved from 0.31323 to 0.31313, saving model to model-v1.h5\n",
            "Epoch 144/700\n",
            "5/5 [==============================] - 0s 13ms/step - loss: 0.0228 - accuracy: 1.0000 - val_loss: 0.3130 - val_accuracy: 1.0000\n",
            "\n",
            "Epoch 00144: val_loss improved from 0.31313 to 0.31297, saving model to model-v1.h5\n",
            "Epoch 145/700\n",
            "5/5 [==============================] - 0s 14ms/step - loss: 0.0228 - accuracy: 1.0000 - val_loss: 0.3127 - val_accuracy: 1.0000\n",
            "\n",
            "Epoch 00145: val_loss improved from 0.31297 to 0.31270, saving model to model-v1.h5\n",
            "Epoch 146/700\n",
            "5/5 [==============================] - 0s 15ms/step - loss: 0.0227 - accuracy: 1.0000 - val_loss: 0.3125 - val_accuracy: 1.0000\n",
            "\n",
            "Epoch 00146: val_loss improved from 0.31270 to 0.31252, saving model to model-v1.h5\n",
            "Epoch 147/700\n",
            "5/5 [==============================] - 0s 17ms/step - loss: 0.0227 - accuracy: 1.0000 - val_loss: 0.3123 - val_accuracy: 1.0000\n",
            "\n",
            "Epoch 00147: val_loss improved from 0.31252 to 0.31233, saving model to model-v1.h5\n",
            "Epoch 148/700\n",
            "5/5 [==============================] - 0s 16ms/step - loss: 0.0227 - accuracy: 1.0000 - val_loss: 0.3123 - val_accuracy: 1.0000\n",
            "\n",
            "Epoch 00148: val_loss improved from 0.31233 to 0.31226, saving model to model-v1.h5\n",
            "Epoch 149/700\n",
            "5/5 [==============================] - 0s 16ms/step - loss: 0.0227 - accuracy: 1.0000 - val_loss: 0.3122 - val_accuracy: 1.0000\n",
            "\n",
            "Epoch 00149: val_loss improved from 0.31226 to 0.31217, saving model to model-v1.h5\n",
            "Epoch 150/700\n",
            "5/5 [==============================] - 0s 17ms/step - loss: 0.0227 - accuracy: 1.0000 - val_loss: 0.3120 - val_accuracy: 1.0000\n",
            "\n",
            "Epoch 00150: val_loss improved from 0.31217 to 0.31196, saving model to model-v1.h5\n",
            "Epoch 151/700\n",
            "5/5 [==============================] - 0s 23ms/step - loss: 0.0226 - accuracy: 1.0000 - val_loss: 0.3119 - val_accuracy: 1.0000\n",
            "\n",
            "Epoch 00151: val_loss improved from 0.31196 to 0.31191, saving model to model-v1.h5\n",
            "Epoch 152/700\n",
            "5/5 [==============================] - 0s 17ms/step - loss: 0.0226 - accuracy: 1.0000 - val_loss: 0.3118 - val_accuracy: 1.0000\n",
            "\n",
            "Epoch 00152: val_loss improved from 0.31191 to 0.31185, saving model to model-v1.h5\n",
            "Epoch 153/700\n",
            "5/5 [==============================] - 0s 18ms/step - loss: 0.0226 - accuracy: 1.0000 - val_loss: 0.3117 - val_accuracy: 1.0000\n",
            "\n",
            "Epoch 00153: val_loss improved from 0.31185 to 0.31172, saving model to model-v1.h5\n",
            "Epoch 154/700\n",
            "5/5 [==============================] - 0s 17ms/step - loss: 0.0226 - accuracy: 1.0000 - val_loss: 0.3116 - val_accuracy: 1.0000\n",
            "\n",
            "Epoch 00154: val_loss improved from 0.31172 to 0.31162, saving model to model-v1.h5\n",
            "Epoch 155/700\n",
            "5/5 [==============================] - 0s 14ms/step - loss: 0.0226 - accuracy: 1.0000 - val_loss: 0.3117 - val_accuracy: 1.0000\n",
            "\n",
            "Epoch 00155: val_loss did not improve from 0.31162\n",
            "Epoch 156/700\n",
            "5/5 [==============================] - 0s 13ms/step - loss: 0.0225 - accuracy: 1.0000 - val_loss: 0.3118 - val_accuracy: 1.0000\n",
            "\n",
            "Epoch 00156: val_loss did not improve from 0.31162\n",
            "\n",
            "Epoch 00156: ReduceLROnPlateau reducing learning rate to 8.000000525498762e-06.\n",
            "Epoch 157/700\n",
            "5/5 [==============================] - 0s 13ms/step - loss: 0.0225 - accuracy: 1.0000 - val_loss: 0.3118 - val_accuracy: 1.0000\n",
            "\n",
            "Epoch 00157: val_loss did not improve from 0.31162\n",
            "Epoch 158/700\n",
            "5/5 [==============================] - 0s 14ms/step - loss: 0.0225 - accuracy: 1.0000 - val_loss: 0.3118 - val_accuracy: 1.0000\n",
            "\n",
            "Epoch 00158: val_loss did not improve from 0.31162\n",
            "Epoch 159/700\n",
            "5/5 [==============================] - 0s 15ms/step - loss: 0.0225 - accuracy: 1.0000 - val_loss: 0.3117 - val_accuracy: 1.0000\n",
            "\n",
            "Epoch 00159: val_loss did not improve from 0.31162\n",
            "\n",
            "Epoch 00159: ReduceLROnPlateau reducing learning rate to 1.6000001778593287e-06.\n",
            "Epoch 160/700\n",
            "5/5 [==============================] - 0s 15ms/step - loss: 0.0225 - accuracy: 1.0000 - val_loss: 0.3117 - val_accuracy: 1.0000\n",
            "\n",
            "Epoch 00160: val_loss did not improve from 0.31162\n",
            "Epoch 161/700\n",
            "5/5 [==============================] - 0s 14ms/step - loss: 0.0225 - accuracy: 1.0000 - val_loss: 0.3117 - val_accuracy: 1.0000\n",
            "\n",
            "Epoch 00161: val_loss did not improve from 0.31162\n",
            "Epoch 162/700\n",
            "5/5 [==============================] - 0s 14ms/step - loss: 0.0225 - accuracy: 1.0000 - val_loss: 0.3117 - val_accuracy: 1.0000\n",
            "\n",
            "Epoch 00162: val_loss did not improve from 0.31162\n",
            "\n",
            "Epoch 00162: ReduceLROnPlateau reducing learning rate to 3.200000264769187e-07.\n",
            "Epoch 163/700\n",
            "5/5 [==============================] - 0s 15ms/step - loss: 0.0225 - accuracy: 1.0000 - val_loss: 0.3117 - val_accuracy: 1.0000\n",
            "\n",
            "Epoch 00163: val_loss did not improve from 0.31162\n",
            "Epoch 164/700\n",
            "5/5 [==============================] - 0s 15ms/step - loss: 0.0225 - accuracy: 1.0000 - val_loss: 0.3117 - val_accuracy: 1.0000\n",
            "\n",
            "Epoch 00164: val_loss did not improve from 0.31162\n"
          ],
          "name": "stdout"
        }
      ]
    },
    {
      "cell_type": "code",
      "metadata": {
        "colab": {
          "base_uri": "https://localhost:8080/",
          "height": 822
        },
        "id": "8li_CarDLUqn",
        "outputId": "ee963666-6061-4e6c-92ad-9a77290de9e0"
      },
      "source": [
        "print(model.summary())\n",
        "plt.figure(figsize=(16,8))\n",
        "plt.subplot(1, 2, 1)\n",
        "plt.plot(acc, label='Training Accuracy')\n",
        "plt.plot(val_acc, label='Validation Accuracy')\n",
        "plt.legend(loc='lower right')\n",
        "plt.title('Training and Validation Accuracy')\n",
        "\n",
        "plt.subplot(1, 2, 2)\n",
        "plt.plot(loss, label='Training Loss')\n",
        "plt.plot(val_loss, label='Validation Loss')\n",
        "plt.legend(loc='upper right')\n",
        "plt.title('Training and Validation Loss')\n",
        "plt.show()"
      ],
      "execution_count": 218,
      "outputs": [
        {
          "output_type": "stream",
          "text": [
            "Model: \"sequential_174\"\n",
            "_________________________________________________________________\n",
            "Layer (type)                 Output Shape              Param #   \n",
            "=================================================================\n",
            "embedding_174 (Embedding)    (None, 9, 50)             9700      \n",
            "_________________________________________________________________\n",
            "conv1d_174 (Conv1D)          (None, 9, 50)             7550      \n",
            "_________________________________________________________________\n",
            "max_pooling1d_160 (MaxPoolin (None, 3, 50)             0         \n",
            "_________________________________________________________________\n",
            "bidirectional_172 (Bidirecti (None, 50)                15200     \n",
            "_________________________________________________________________\n",
            "dense_175 (Dense)            (None, 13)                663       \n",
            "=================================================================\n",
            "Total params: 33,113\n",
            "Trainable params: 23,413\n",
            "Non-trainable params: 9,700\n",
            "_________________________________________________________________\n",
            "None\n"
          ],
          "name": "stdout"
        },
        {
          "output_type": "display_data",
          "data": {
            "image/png": "[encoded data removed]",
            "text/plain": [
              "<Figure size 1152x576 with 2 Axes>"
            ]
          },
          "metadata": {
            "tags": [],
            "needs_background": "light"
          }
        }
      ]
    },
    {
      "cell_type": "code",
      "metadata": {
        "colab": {
          "base_uri": "https://localhost:8080/"
        },
        "id": "PX8Alk8qLoTn",
        "outputId": "2bfe21ac-23ef-43d8-ce41-75ac13c77888"
      },
      "source": [
        "[np.argmax(i) for i in model.predict(X_test)][:12]"
      ],
      "execution_count": 219,
      "outputs": [
        {
          "output_type": "execute_result",
          "data": {
            "text/plain": [
              "[0, 2, 3, 4, 5, 6, 7, 8, 9, 10, 11, 12]"
            ]
          },
          "metadata": {
            "tags": []
          },
          "execution_count": 219
        }
      ]
    },
    {
      "cell_type": "code",
      "metadata": {
        "colab": {
          "base_uri": "https://localhost:8080/"
        },
        "id": "a6u0cpIWLriT",
        "outputId": "d69419bc-4649-4bf3-e91e-432b266c91b0"
      },
      "source": [
        "[np.argmax(i) for i in y_test][:12]\n"
      ],
      "execution_count": 220,
      "outputs": [
        {
          "output_type": "execute_result",
          "data": {
            "text/plain": [
              "[0, 2, 3, 4, 5, 6, 7, 8, 9, 10, 11, 12]"
            ]
          },
          "metadata": {
            "tags": []
          },
          "execution_count": 220
        }
      ]
    },
    {
      "cell_type": "code",
      "metadata": {
        "colab": {
          "base_uri": "https://localhost:8080/"
        },
        "id": "foCgu0_TvRcM",
        "outputId": "ac9cfc10-3f46-4a3a-8045-79e1cbf0c666"
      },
      "source": [
        "from tensorflow.keras.models import load_model\n",
        "tester = load_model('model-v1.h5')\n",
        "tokenizer_t = joblib.load('tokenizer_t.pkl')\n",
        "mapper = joblib.load('mapper.pkl')\n",
        "vocab = joblib.load('vocab.pkl')\n",
        "tester.summary()"
      ],
      "execution_count": 221,
      "outputs": [
        {
          "output_type": "stream",
          "text": [
            "Model: \"sequential_174\"\n",
            "_________________________________________________________________\n",
            "Layer (type)                 Output Shape              Param #   \n",
            "=================================================================\n",
            "embedding_174 (Embedding)    (None, 9, 50)             9700      \n",
            "_________________________________________________________________\n",
            "conv1d_174 (Conv1D)          (None, 9, 50)             7550      \n",
            "_________________________________________________________________\n",
            "max_pooling1d_160 (MaxPoolin (None, 3, 50)             0         \n",
            "_________________________________________________________________\n",
            "bidirectional_172 (Bidirecti (None, 50)                15200     \n",
            "_________________________________________________________________\n",
            "dense_175 (Dense)            (None, 13)                663       \n",
            "=================================================================\n",
            "Total params: 33,113\n",
            "Trainable params: 23,413\n",
            "Non-trainable params: 9,700\n",
            "_________________________________________________________________\n"
          ],
          "name": "stdout"
        }
      ]
    },
    {
      "cell_type": "code",
      "metadata": {
        "id": "oEv06Flj3H5Z"
      },
      "source": [
        "def get_text(input):\n",
        "    input_text = []\n",
        "    input_text.append(input)\n",
        "    df_input = pd.DataFrame(input_text,columns=['question'])\n",
        "    return df_input"
      ],
      "execution_count": 222,
      "outputs": []
    },
    {
      "cell_type": "code",
      "metadata": {
        "id": "62bwB1CgL15C"
      },
      "source": [
        "def tokenizer(entry):\n",
        "    tokens = entry.split()\n",
        "    re_punc = re.compile('[%s]' % re.escape(string.punctuation))\n",
        "    tokens = [re_punc.sub('', w) for w in tokens]\n",
        "    tokens = [word for word in tokens if word.isalpha()]\n",
        "    tokens = [lemmatizer.lemmatize(w.lower()) for w in tokens]\n",
        "    tokens = [word.lower() for word in tokens if len(word) > 1]\n",
        "    return tokens"
      ],
      "execution_count": 223,
      "outputs": []
    },
    {
      "cell_type": "code",
      "metadata": {
        "id": "43srDxtIL35o"
      },
      "source": [
        "def remove_stop_words_for_input(tokenizer,df,feature):\n",
        "    doc_without_stopwords = []\n",
        "    entry = df[feature][0]\n",
        "    tokens = tokenizer(entry)\n",
        "    doc_without_stopwords.append(' '.join(tokens))\n",
        "    df[feature] = doc_without_stopwords\n",
        "    return df"
      ],
      "execution_count": 224,
      "outputs": []
    },
    {
      "cell_type": "code",
      "metadata": {
        "id": "dhVh3q_UL5o8"
      },
      "source": [
        "def encode_input_text(tokenizer_t,df,feature):\n",
        "    t = tokenizer_t\n",
        "    entry = entry = [df[feature][0]]\n",
        "    encoded = t.texts_to_sequences(entry)\n",
        "    padded = pad_sequences(encoded, maxlen=9, padding='post')\n",
        "    return padded"
      ],
      "execution_count": 225,
      "outputs": []
    },
    {
      "cell_type": "code",
      "metadata": {
        "id": "EwB4_kZlL7YT"
      },
      "source": [
        "def get_pred(model,encoded_input):\n",
        "    pred = model.predict(encoded_input)\n",
        "    pred_dict=[]\n",
        "    test={}\n",
        "    for key in mapper.keys():\n",
        "        test[key]=pred[0][mapper[key]]\n",
        "        if pred[0][mapper[key]]>0.3:\n",
        "            pred_dict.append([key,pred[0][mapper[key]]])\n",
        "    pred_dict.sort(key=lambda x: x[1], reverse=True)\n",
        "    test ={k: v for k, v in sorted(test.items(), key=lambda item: item[1],reverse=True)}\n",
        "    print(test)\n",
        "    return pred_dict"
      ],
      "execution_count": 226,
      "outputs": []
    },
    {
      "cell_type": "code",
      "metadata": {
        "id": "gRbzT8MsMAIG"
      },
      "source": [
        "def get_response(intents_list, intents_json,message):\n",
        "    if not intents_list:\n",
        "        return \"Sorry, I cannot understand you\"\n",
        "    tag = intents_list[0][0]\n",
        "    if tag == \"confused\":\n",
        "        return \"Sorry, I cannot understand you\"\n",
        "    list_of_intents = intents_json['intents']\n",
        "    for i in list_of_intents:\n",
        "        if i['tag']==tag:\n",
        "            if i['tag']==\"media\":\n",
        "                if \"github\" in message:\n",
        "                    result = i['responses'][0]\n",
        "                    return result\n",
        "                elif \"linked\" in message:\n",
        "                    result = i['responses'][1]\n",
        "                    return result\n",
        "            result = random.choice(i['responses'])\n",
        "            break\n",
        "    \n",
        "    return result"
      ],
      "execution_count": 227,
      "outputs": []
    },
    {
      "cell_type": "code",
      "metadata": {
        "id": "2ePn1yTxMDyv"
      },
      "source": [
        "def chat():\n",
        "    message = input(\"\")\n",
        "    df_input = get_text(message)\n",
        "    df_input = remove_stop_words_for_input(tokenizer,df_input,'question')\n",
        "    encoded_input = encode_input_text(tokenizer_t,df_input,'question')\n",
        "    intents_list = get_pred(tester,encoded_input)\n",
        "    response = get_response(intents_list,data,message)\n",
        "    print(response)"
      ],
      "execution_count": 228,
      "outputs": []
    },
    {
      "cell_type": "code",
      "metadata": {
        "colab": {
          "base_uri": "https://localhost:8080/"
        },
        "id": "32fIW-ImhNJx",
        "outputId": "660935c6-3a9e-4ede-b177-11f946ddafa0"
      },
      "source": [
        "chat()"
      ],
      "execution_count": 230,
      "outputs": [
        {
          "output_type": "stream",
          "text": [
            "can i have your github account\n",
            "{'media': 0.9942364, 'skills': 0.0028105115, 'projects': 0.0012300649, 'education': 0.000799985, 'hello': 0.00049429707, 'location': 0.00014950057, 'name': 9.997834e-05, 'contact': 6.54512e-05, 'confused': 4.792605e-05, 'goodbye': 2.2225853e-05, 'about': 1.8707426e-05, 'experience': 1.8184779e-05, 'thanks': 6.7289916e-06}\n",
            "The link to my Github is github.com/colin-ho\n"
          ],
          "name": "stdout"
        }
      ]
    }
  ]
}